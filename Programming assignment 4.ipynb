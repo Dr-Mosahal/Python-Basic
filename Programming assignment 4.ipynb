{
 "cells": [
  {
   "cell_type": "markdown",
   "id": "3396fd84",
   "metadata": {},
   "source": [
    "# 1.Write a Python Program to Find the Factorial of a Number?\n"
   ]
  },
  {
   "cell_type": "code",
   "execution_count": 6,
   "id": "a27a0e6c",
   "metadata": {},
   "outputs": [
    {
     "name": "stdout",
     "output_type": "stream",
     "text": [
      "120\n",
      "24\n",
      "6\n",
      "2\n",
      "1\n",
      "1\n",
      "Invalid input\n"
     ]
    }
   ],
   "source": [
    "def find_factorial(num):\n",
    "  if num < 0:\n",
    "    return \"Invalid input\"\n",
    "  elif num == 0:\n",
    "    return 1\n",
    "  else:\n",
    "    return num * find_factorial(num - 1)\n",
    "\n",
    "# Test the function with different numbers\n",
    "print(find_factorial(5))  # 120\n",
    "print(find_factorial(4))  # 24\n",
    "print(find_factorial(3))  # 6\n",
    "print(find_factorial(2))  # 2\n",
    "print(find_factorial(1))  # 1\n",
    "print(find_factorial(0))  # 1\n",
    "print(find_factorial(-1)) # Invalid input"
   ]
  },
  {
   "cell_type": "markdown",
   "id": "bf028bbb",
   "metadata": {},
   "source": [
    "# 2.Write a Python Program to Display the multiplication Table?"
   ]
  },
  {
   "cell_type": "code",
   "execution_count": 7,
   "id": "41c1eb6d",
   "metadata": {},
   "outputs": [
    {
     "name": "stdout",
     "output_type": "stream",
     "text": [
      "5 x 1 = 5\n",
      "5 x 2 = 10\n",
      "5 x 3 = 15\n",
      "5 x 4 = 20\n",
      "5 x 5 = 25\n",
      "5 x 6 = 30\n",
      "5 x 7 = 35\n",
      "5 x 8 = 40\n",
      "5 x 9 = 45\n",
      "5 x 10 = 50\n"
     ]
    }
   ],
   "source": [
    "def display_multiplication_table(num):\n",
    "  for i in range(1, 11):\n",
    "    print(f\"{num} x {i} = {num * i}\")\n",
    "\n",
    "# Test the function with different numbers\n",
    "display_multiplication_table(5)"
   ]
  },
  {
   "cell_type": "markdown",
   "id": "76fa3889",
   "metadata": {},
   "source": [
    "# 3.Write a Python Program to Print the Fibonacci sequence?\n"
   ]
  },
  {
   "cell_type": "code",
   "execution_count": 8,
   "id": "beca81bf",
   "metadata": {},
   "outputs": [
    {
     "name": "stdout",
     "output_type": "stream",
     "text": [
      "0\n",
      "1\n",
      "1\n",
      "2\n",
      "3\n",
      "5\n",
      "8\n",
      "13\n",
      "21\n",
      "34\n"
     ]
    }
   ],
   "source": [
    "\n",
    "def print_fibonacci(num):\n",
    "  a, b = 0, 1\n",
    "  for i in range(num):\n",
    "    print(a)\n",
    "    a, b = b, a + b\n",
    "\n",
    "# Test the function with different numbers\n",
    "print_fibonacci(10)"
   ]
  },
  {
   "cell_type": "markdown",
   "id": "2e82e636",
   "metadata": {},
   "source": [
    "# 4.Write a Python Program to Check Armstrong Number?\n"
   ]
  },
  {
   "cell_type": "code",
   "execution_count": 9,
   "id": "5f6f3a4e",
   "metadata": {},
   "outputs": [
    {
     "name": "stdout",
     "output_type": "stream",
     "text": [
      "True\n",
      "False\n",
      "True\n",
      "False\n"
     ]
    }
   ],
   "source": [
    "\n",
    "def is_armstrong(num):\n",
    "  num_str = str(num)\n",
    "  num_digits = len(num_str)\n",
    "  sum = 0\n",
    "  for digit in num_str:\n",
    "    sum += int(digit) ** num_digits\n",
    "  return sum == num\n",
    "\n",
    "# Test the function with different numbers\n",
    "print(is_armstrong(153)) # True\n",
    "print(is_armstrong(154)) # False\n",
    "print(is_armstrong(1634)) # True\n",
    "print(is_armstrong(1635)) # False"
   ]
  },
  {
   "cell_type": "markdown",
   "id": "9d8017b2",
   "metadata": {},
   "source": [
    "# 5.Write a Python Program to Find Armstrong Number in an Interval?\n"
   ]
  },
  {
   "cell_type": "code",
   "execution_count": 10,
   "id": "a09afb64",
   "metadata": {},
   "outputs": [
    {
     "name": "stdout",
     "output_type": "stream",
     "text": [
      "153\n",
      "370\n",
      "371\n",
      "407\n"
     ]
    }
   ],
   "source": [
    "\n",
    "def is_armstrong(num):\n",
    "  num_str = str(num)\n",
    "  num_digits = len(num_str)\n",
    "  sum = 0\n",
    "  for digit in num_str:\n",
    "    sum += int(digit) ** num_digits\n",
    "  return sum == num\n",
    "\n",
    "# Find all the Armstrong numbers between 100 and 1000\n",
    "for num in range(100, 1000):\n",
    "  if is_armstrong(num):\n",
    "    print(num)"
   ]
  },
  {
   "cell_type": "markdown",
   "id": "e5668036",
   "metadata": {},
   "source": [
    "# 6.Write a Python Program to Find the Sum of Natural Numbers?"
   ]
  },
  {
   "cell_type": "code",
   "execution_count": 11,
   "id": "9e082acc",
   "metadata": {},
   "outputs": [
    {
     "name": "stdout",
     "output_type": "stream",
     "text": [
      "15\n",
      "55\n",
      "120\n"
     ]
    }
   ],
   "source": [
    "\n",
    "def find_sum(n):\n",
    "  sum = 0\n",
    "  for i in range(1, n + 1):\n",
    "    sum += i\n",
    "  return sum\n",
    "\n",
    "# Test the function with different values of n\n",
    "print(find_sum(5))  # 15\n",
    "print(find_sum(10)) # 55\n",
    "print(find_sum(15)) # 120"
   ]
  }
 ],
 "metadata": {
  "kernelspec": {
   "display_name": "Python 3 (ipykernel)",
   "language": "python",
   "name": "python3"
  },
  "language_info": {
   "codemirror_mode": {
    "name": "ipython",
    "version": 3
   },
   "file_extension": ".py",
   "mimetype": "text/x-python",
   "name": "python",
   "nbconvert_exporter": "python",
   "pygments_lexer": "ipython3",
   "version": "3.9.7"
  }
 },
 "nbformat": 4,
 "nbformat_minor": 5
}
