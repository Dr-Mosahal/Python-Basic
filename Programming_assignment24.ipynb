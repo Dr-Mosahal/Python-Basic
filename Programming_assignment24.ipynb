{
  "metadata": {
    "language_info": {
      "codemirror_mode": {
        "name": "python",
        "version": 3
      },
      "file_extension": ".py",
      "mimetype": "text/x-python",
      "name": "python",
      "nbconvert_exporter": "python",
      "pygments_lexer": "ipython3",
      "version": "3.8"
    },
    "kernelspec": {
      "name": "python",
      "display_name": "Python (Pyodide)",
      "language": "python"
    }
  },
  "nbformat_minor": 4,
  "nbformat": 4,
  "cells": [
    {
      "cell_type": "markdown",
      "source": "1.Create a function that takes an integer and returns a list from 1 to the given number, where:\nIf the number can be divided evenly by 4, amplify it by 10 (i.e. return 10 times the number).\nIf the number cannot be divided evenly by 4, simply return the number.\nExamples\namplify(4) ➞ [1, 2, 3, 40]\n\namplify(3) ➞ [1, 2, 3]\n\namplify(25) ➞ [1, 2, 3, 40, 5, 6, 7, 80, 9, 10, 11, 120, 13, 14, 15, 160, 17, 18, 19, 200, 21, 22, 23, 240, 25]\nNotes\nThe given integer will always be equal to or greater than 1.\nInclude the number (see example above).\nTo perform this problem with its intended purpose, try doing it with list comprehensions. If that's too difficult, just solve the challenge any way you can.\n",
      "metadata": {}
    },
    {
      "cell_type": "code",
      "source": "def amplify(number):\n    return [num * 10 if num % 4 == 0 else num for num in range(1, number + 1)]\n\n# Example usage:\nprint(amplify(4))\n# Output: [1, 2, 3, 40]\n\nprint(amplify(3))\n# Output: [1, 2, 3]\n\nprint(amplify(25))\n# Output: [1, 2, 3, 40, 5, 6, 7, 80, 9, 10, 11, 120, 13, 14, 15, 160, 17, 18, 19, 200, 21, 22, 23, 240, 25]\n",
      "metadata": {},
      "execution_count": null,
      "outputs": []
    },
    {
      "cell_type": "markdown",
      "source": "2.Create a function that takes a list of numbers and return the number that's unique.\nExamples\nunique([3, 3, 3, 7, 3, 3]) ➞ 7\n\nunique([0, 0, 0.77, 0, 0]) ➞ 0.77\n\nunique([0, 1, 1, 1, 1, 1, 1, 1]) ➞ 0\nNotes\nTest cases will always have exactly one unique number while all others are the same.\n\n",
      "metadata": {}
    },
    {
      "cell_type": "code",
      "source": "def unique(numbers):\n    for num in numbers:\n        if numbers.count(num) == 1:\n            return num\n\n# Example usage:\nprint(unique([3, 3, 3, 7, 3, 3]))\n# Output: 7\n\nprint(unique([0, 0, 0.77, 0, 0]))\n# Output: 0.77\n\nprint(unique([0, 1, 1, 1, 1, 1, 1, 1]))\n# Output: 0\n",
      "metadata": {},
      "execution_count": null,
      "outputs": []
    },
    {
      "cell_type": "markdown",
      "source": "3.Your task is to create a Circle constructor that creates a circle with a radius provided by an argument. The circles constructed must have two getters getArea() (PIr^2) and getPerimeter() (2PI*r) which give both respective areas and perimeter (circumference).\nFor help with this class, I have provided you with a Rectangle constructor which you can use as a base example.\nExamples\ncircy = Circle(11)\ncircy.getArea()\n\n# Should return 380.132711084365\n\ncircy = Circle(4.44)\ncircy.getPerimeter()\n\n# Should return 27.897342763877365\nNotes\nRound results up to the nearest integer.\n\n",
      "metadata": {}
    },
    {
      "cell_type": "code",
      "source": "import math\n\nclass Circle:\n    def __init__(self, radius):\n        self.radius = radius\n\n    def getArea(self):\n        return math.ceil(math.pi * self.radius ** 2)\n\n    def getPerimeter(self):\n        return math.ceil(2 * math.pi * self.radius)\n\n# Example usage:\ncircy = Circle(11)\nprint(circy.getArea())\n# Output: 380\n\ncircy = Circle(4.44)\nprint(circy.getPerimeter())\n# Output: 28\n",
      "metadata": {},
      "execution_count": null,
      "outputs": []
    },
    {
      "cell_type": "markdown",
      "source": "4.Create a function that takes a list of strings and return a list, sorted from shortest to longest.\nExamples\nsort_by_length([\"Google\", \"Apple\", \"Microsoft\"])\n➞ [\"Apple\", \"Google\", \"Microsoft\"]\n\nsort_by_length([\"Leonardo\", \"Michelangelo\", \"Raphael\", \"Donatello\"])\n➞ [\"Raphael\", \"Leonardo\", \"Donatello\", \"Michelangelo\"]\n\nsort_by_length([\"Turing\", \"Einstein\", \"Jung\"])\n➞ [\"Jung\", \"Turing\", \"Einstein\"]\nNotes\nAll test cases contain lists with strings of different lengths, so you won't have to deal with multiple strings of the same length.\n\n",
      "metadata": {}
    },
    {
      "cell_type": "code",
      "source": "def sort_by_length(strings):\n    return sorted(strings, key=len)\n\n# Example usage:\nprint(sort_by_length([\"Google\", \"Apple\", \"Microsoft\"]))\n# Output: [\"Apple\", \"Google\", \"Microsoft\"]\n\nprint(sort_by_length([\"Leonardo\", \"Michelangelo\", \"Raphael\", \"Donatello\"]))\n# Output: [\"Raphael\", \"Leonardo\", \"Donatello\", \"Michelangelo\"]\n\nprint(sort_by_length([\"Turing\", \"Einstein\", \"Jung\"]))\n# Output: [\"Jung\", \"Turing\", \"Einstein\"]\n",
      "metadata": {},
      "execution_count": null,
      "outputs": []
    },
    {
      "cell_type": "markdown",
      "source": "5.Create a function that validates whether three given integers form a Pythagorean triplet. The sum of the squares of the two smallest integers must equal the square of the largest number to be validated.\n\n\nExamples\nis_triplet(3, 4, 5) ➞ True\n# 3² + 4² = 25\n# 5² = 25\n\nis_triplet(13, 5, 12) ➞ True\n# 5² + 12² = 169\n# 13² = 169\n\nis_triplet(1, 2, 3) ➞ False\n",
      "metadata": {}
    },
    {
      "cell_type": "code",
      "source": "def is_triplet(a, b, c):\n    squares = [a ** 2, b ** 2, c ** 2]\n    squares.sort()\n\n    return squares[0] + squares[1] == squares[2]\n\n# Example usage:\nprint(is_triplet(3, 4, 5))\n# Output: True\n\nprint(is_triplet(13, 5, 12))\n# Output: True\n\nprint(is_triplet(1, 2, 3))\n# Output: False\n",
      "metadata": {},
      "execution_count": null,
      "outputs": []
    }
  ]
}