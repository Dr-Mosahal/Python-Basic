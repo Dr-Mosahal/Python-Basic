{
 "cells": [
  {
   "cell_type": "markdown",
   "id": "7ef83b61",
   "metadata": {},
   "source": [
    "# 1.Write a Python Program to Display Fibonacci Sequence Using Recursion?\n"
   ]
  },
  {
   "cell_type": "code",
   "execution_count": 6,
   "id": "32c47769",
   "metadata": {},
   "outputs": [
    {
     "name": "stdout",
     "output_type": "stream",
     "text": [
      "21\n"
     ]
    }
   ],
   "source": [
    "def fibonacci(n):\n",
    "    if n <= 0:\n",
    "        print(\"Incorrect input\")\n",
    "    elif n == 1:\n",
    "        return 0\n",
    "    elif n == 2:\n",
    "        return 1\n",
    "    else:\n",
    "        return fibonacci(n-1) + fibonacci(n-2)\n",
    "\n",
    "# Testing the function\n",
    "print(fibonacci(9))"
   ]
  },
  {
   "cell_type": "markdown",
   "id": "151664e8",
   "metadata": {},
   "source": [
    "# 2.Write a Python Program to Find Factorial of Number Using Recursion?"
   ]
  },
  {
   "cell_type": "code",
   "execution_count": 7,
   "id": "2df18863",
   "metadata": {},
   "outputs": [
    {
     "name": "stdout",
     "output_type": "stream",
     "text": [
      "120\n"
     ]
    }
   ],
   "source": [
    "def factorial(n):\n",
    "    if n == 0:\n",
    "        return 1\n",
    "    else:\n",
    "        return n * factorial(n-1)\n",
    "\n",
    "# Testing the function\n",
    "print(factorial(5))\n"
   ]
  },
  {
   "cell_type": "markdown",
   "id": "e13f0a94",
   "metadata": {},
   "source": [
    "# 3.Write a Python Program to calculate your Body Mass Index?\n"
   ]
  },
  {
   "cell_type": "code",
   "execution_count": 8,
   "id": "6b21521a",
   "metadata": {},
   "outputs": [
    {
     "name": "stdout",
     "output_type": "stream",
     "text": [
      "Your BMI is: 24.4\n"
     ]
    }
   ],
   "source": [
    "# Define a function to calculate BMI\n",
    "def calculate_bmi(weight, height):\n",
    "  # Convert weight from pounds to kilograms\n",
    "  weight_kg = weight * 0.45359237\n",
    "  # Convert height from inches to meters\n",
    "  height_m = height * 0.0254\n",
    "  # Calculate BMI\n",
    "  bmi = weight_kg / (height_m**2)\n",
    "  return bmi\n",
    "\n",
    "# Test the function\n",
    "weight = 180 # pounds\n",
    "height = 72 # inches\n",
    "\n",
    "bmi = calculate_bmi(weight, height)\n",
    "print(f\"Your BMI is: {bmi:.1f}\")\n",
    "\n",
    "\n"
   ]
  },
  {
   "cell_type": "markdown",
   "id": "594815be",
   "metadata": {},
   "source": [
    " # 4.Write a Python Program to calculate the natural logarithm of any number?\n"
   ]
  },
  {
   "cell_type": "code",
   "execution_count": 9,
   "id": "7fdf793d",
   "metadata": {},
   "outputs": [
    {
     "name": "stdout",
     "output_type": "stream",
     "text": [
      "The natural logarithm of 10 is: 2.303\n"
     ]
    }
   ],
   "source": [
    "import math\n",
    "# Define a function to calculate the natural logarithm of a number\n",
    "def natural_log(x):\n",
    "  # Calculate the natural logarithm using the math module\n",
    "  ln = math.log(x)\n",
    "  return ln\n",
    "\n",
    "# Test the function\n",
    "x = 10\n",
    "ln = natural_log(x)\n",
    "print(f\"The natural logarithm of {x} is: {ln:.3f}\")\n",
    "# Define a function to calculate the sum of the cubes of the first n natural numbers\n"
   ]
  },
  {
   "cell_type": "markdown",
   "id": "03658f72",
   "metadata": {},
   "source": [
    "# 5.Write a Python Program for cube sum of first n natural numbers?"
   ]
  },
  {
   "cell_type": "code",
   "execution_count": 10,
   "id": "39a501fb",
   "metadata": {},
   "outputs": [
    {
     "name": "stdout",
     "output_type": "stream",
     "text": [
      "The sum of the cubes of the first 10 natural numbers is: 3025\n"
     ]
    }
   ],
   "source": [
    "def sum_of_cubes(n):\n",
    "  # Initialize the sum to 0\n",
    "  sum = 0\n",
    "  # Iterate over the first n natural numbers\n",
    "  for i in range(1, n+1):\n",
    "    # Add the cube of the current number to the sum\n",
    "    sum += i**3\n",
    "  return sum\n",
    "\n",
    "# Test the function\n",
    "n = 10\n",
    "sum = sum_of_cubes(n)\n",
    "print(f\"The sum of the cubes of the first {n} natural numbers is: {sum}\")"
   ]
  }
 ],
 "metadata": {
  "kernelspec": {
   "display_name": "Python 3 (ipykernel)",
   "language": "python",
   "name": "python3"
  },
  "language_info": {
   "codemirror_mode": {
    "name": "ipython",
    "version": 3
   },
   "file_extension": ".py",
   "mimetype": "text/x-python",
   "name": "python",
   "nbconvert_exporter": "python",
   "pygments_lexer": "ipython3",
   "version": "3.9.12"
  }
 },
 "nbformat": 4,
 "nbformat_minor": 5
}
