{
  "metadata": {
    "language_info": {
      "codemirror_mode": {
        "name": "python",
        "version": 3
      },
      "file_extension": ".py",
      "mimetype": "text/x-python",
      "name": "python",
      "nbconvert_exporter": "python",
      "pygments_lexer": "ipython3",
      "version": "3.8"
    },
    "kernelspec": {
      "name": "python",
      "display_name": "Python (Pyodide)",
      "language": "python"
    }
  },
  "nbformat_minor": 4,
  "nbformat": 4,
  "cells": [
    {
      "cell_type": "markdown",
      "source": "1.Write a function that takes a list and a number as arguments. Add the number to the end of the list, then remove the first element of the list. The function should then return the updated list.\nExamples\nnext_in_line([5, 6, 7, 8, 9], 1) ➞ [6, 7, 8, 9, 1]\n\nnext_in_line([7, 6, 3, 23, 17], 10) ➞ [6, 3, 23, 17, 10]\n\nnext_in_line([1, 10, 20, 42 ], 6) ➞ [10, 20, 42, 6]\n\nnext_in_line([], 6) ➞ \"No list has been selected\"\n\n",
      "metadata": {}
    },
    {
      "cell_type": "code",
      "source": "def next_in_line(lst, num):\n    if len(lst) == 0:\n        return \"No list has been selected\"\n    else:\n        lst.pop(0)\n        lst.append(num)\n        return lst\n\n# Example usage:\nprint(next_in_line([5, 6, 7, 8, 9], 1))\n# Output: [6, 7, 8, 9, 1]\n\nprint(next_in_line([7, 6, 3, 23, 17], 10))\n# Output: [6, 3, 23, 17, 10]\n\nprint(next_in_line([1, 10, 20, 42], 6))\n# Output: [10, 20, 42, 6]\n\nprint(next_in_line([], 6))\n# Output: \"No list has been selected\"\n",
      "metadata": {},
      "execution_count": null,
      "outputs": []
    },
    {
      "cell_type": "markdown",
      "source": "2.Create the function that takes a list of dictionaries and returns the sum of people's budgets.\nExamples\nget_budgets([\n  { \"name\": \"John\", \"age\": 21, \"budget\": 23000 },\n  { \"name\": \"Steve\",  \"age\": 32, \"budget\": 40000 },\n  { \"name\": \"Martin\",  \"age\": 16, \"budget\": 2700 }\n]) ➞ 65700\n\nget_budgets([\n  { \"name\": \"John\",  \"age\": 21, \"budget\": 29000 },\n  { \"name\": \"Steve\",  \"age\": 32, \"budget\": 32000 },\n  { \"name\": \"Martin\",  \"age\": 16, \"budget\": 1600 }\n]) ➞ 62600\n\n",
      "metadata": {}
    },
    {
      "cell_type": "code",
      "source": "def get_budgets(lst):\n    total_budget = 0\n    for person in lst:\n        total_budget += person[\"budget\"]\n    return total_budget\n\n# Example usage:\nbudgets1 = [\n    {\"name\": \"John\", \"age\": 21, \"budget\": 23000},\n    {\"name\": \"Steve\", \"age\": 32, \"budget\": 40000},\n    {\"name\": \"Martin\", \"age\": 16, \"budget\": 2700}\n]\nprint(get_budgets(budgets1))\n# Output: 65700\n\nbudgets2 = [\n    {\"name\": \"John\", \"age\": 21, \"budget\": 29000},\n    {\"name\": \"Steve\", \"age\": 32, \"budget\": 32000},\n    {\"name\": \"Martin\", \"age\": 16, \"budget\": 1600}\n]\nprint(get_budgets(budgets2))\n# Output: 62600\n",
      "metadata": {},
      "execution_count": null,
      "outputs": []
    },
    {
      "cell_type": "markdown",
      "source": "3.Create a function that takes a string and returns a string with its letters in alphabetical order.\nExamples\nalphabet_soup(\"hello\") ➞ \"ehllo\"\n\nalphabet_soup(\"edabit\") ➞ \"abdeit\"\n\nalphabet_soup(\"hacker\") ➞ \"acehkr\"\n\nalphabet_soup(\"geek\") ➞ \"eegk\"\n\nalphabet_soup(\"javascript\") ➞ \"aacijprstv\"\n",
      "metadata": {}
    },
    {
      "cell_type": "code",
      "source": "def alphabet_soup(txt):\n    sorted_txt = ''.join(sorted(txt))\n    return sorted_txt\n\n# Example usage:\nprint(alphabet_soup(\"hello\"))\n# Output: \"ehllo\"\n\nprint(alphabet_soup(\"edabit\"))\n# Output: \"abdeit\"\n\nprint(alphabet_soup(\"hacker\"))\n# Output: \"acehkr\"\n\nprint(alphabet_soup(\"geek\"))\n# Output: \"eegk\"\n\nprint(alphabet_soup(\"javascript\"))\n# Output: \"aacijprstv\"\n",
      "metadata": {},
      "execution_count": null,
      "outputs": []
    },
    {
      "cell_type": "markdown",
      "source": "4.Suppose that you invest $10,000 for 10 years at an interest rate of 6% compounded monthly. What will be the value of your investment at the end of the 10 year period?\nCreate a function that accepts the principal p, the term in years t, the interest rate r, and the number of compounding periods per year n. The function returns the value at the end of term rounded to the nearest cent.\nFor the example above:\ncompound_interest(10000, 10, 0.06, 12) ➞ 18193.97\nNote that the interest rate is given as a decimal and n=12 because with monthly compounding there are 12 periods per year. Compounding can also be done annually, quarterly, weekly, or daily.\nExamples\ncompound_interest(100, 1, 0.05, 1) ➞ 105.0\n\ncompound_interest(3500, 15, 0.1, 4) ➞ 15399.26\n\ncompound_interest(100000, 20, 0.15, 365) ➞ 2007316.26\n\n",
      "metadata": {}
    },
    {
      "cell_type": "code",
      "source": "def compound_interest(p, t, r, n):\n    A = p * (1 + r/n)**(n*t)\n    return round(A, 2)\n\n# Example usage:\nprint(compound_interest(10000, 10, 0.06, 12))\n# Output: 18193.97\n\nprint(compound_interest(100, 1, 0.05, 1))\n# Output: 105.0\n\nprint(compound_interest(3500, 15, 0.1, 4))\n# Output: 15399.26\n\nprint(compound_interest(100000, 20\n",
      "metadata": {},
      "execution_count": null,
      "outputs": []
    },
    {
      "cell_type": "markdown",
      "source": "5.Write a function that takes a list of elements and returns only the integers.\nExamples\nreturn_only_integer([9, 2, \"space\", \"car\", \"lion\", 16]) ➞ [9, 2, 16]\n\nreturn_only_integer([\"hello\", 81, \"basketball\", 123, \"fox\"]) ➞ [81, 123]\n\nreturn_only_integer([10, \"121\", 56, 20, \"car\", 3, \"lion\"]) ➞ [10, 56, 20, 3]\n\nreturn_only_integer([\"String\",  True,  3.3,  1]) ➞ [1]\n",
      "metadata": {}
    },
    {
      "cell_type": "code",
      "source": "def return_only_integer(lst):\n    return [x for x in lst if isinstance(x, int)]\n\n# Example usage:\nprint(return_only_integer([9, 2, \"space\", \"car\", \"lion\", 16]))\n# Output: [9, 2, 16]\n\nprint(return_only_integer([\"hello\", 81, \"basketball\", 123, \"fox\"]))\n# Output: [81, 123]\n\nprint(return_only_integer([10, \"121\", 56, 20, \"car\", 3, \"lion\"]))\n# Output: [10, 56, 20, 3]\n\nprint(return_only_integer([\"String\", True, 3.3, 1]))\n# Output: [1]\n",
      "metadata": {},
      "execution_count": null,
      "outputs": []
    }
  ]
}