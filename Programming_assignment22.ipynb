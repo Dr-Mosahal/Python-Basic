{
  "metadata": {
    "language_info": {
      "codemirror_mode": {
        "name": "python",
        "version": 3
      },
      "file_extension": ".py",
      "mimetype": "text/x-python",
      "name": "python",
      "nbconvert_exporter": "python",
      "pygments_lexer": "ipython3",
      "version": "3.8"
    },
    "kernelspec": {
      "name": "python",
      "display_name": "Python (Pyodide)",
      "language": "python"
    }
  },
  "nbformat_minor": 4,
  "nbformat": 4,
  "cells": [
    {
      "cell_type": "markdown",
      "source": "1.Create a function that takes three parameters where:\nx is the start of the range (inclusive).\ny is the end of the range (inclusive).\nn is the divisor to be checked against.\nReturn an ordered list with numbers in the range that are divisible by the third parameter n. Return an empty list if there are no numbers that are divisible by n.\nExamples\nlist_operation(1, 10, 3) ➞ [3, 6, 9]\n\nlist_operation(7, 9, 2) ➞ [8]\n\nlist_operation(15, 20, 7) ➞ []\n",
      "metadata": {}
    },
    {
      "cell_type": "code",
      "source": "def list_operation(x, y, n):\n    result = []\n    for num in range(x, y+1):\n        if num % n == 0:\n            result.append(num)\n    return result\n\n# Example usage:\nprint(list_operation(1, 10, 3))\n# Output: [3, 6, 9]\n\nprint(list_operation(7, 9, 2))\n# Output: [8]\n\nprint(list_operation(15, 20, 7))\n# Output: []\n",
      "metadata": {},
      "execution_count": null,
      "outputs": []
    },
    {
      "cell_type": "markdown",
      "source": "2.Create a function that takes in two lists and returns True if the second list follows the first list by one element, and False otherwise. In other words, determine if the second list is the first list shifted to the right by 1.\nExamples\nsimon_says([1, 2], [5, 1]) ➞ True\n\nsimon_says([1, 2], [5, 5]) ➞ False\n\nsimon_says([1, 2, 3, 4, 5], [0, 1, 2, 3, 4]) ➞ True\n\nsimon_says([1, 2, 3, 4, 5], [5, 5, 1, 2, 3]) ➞ False\nNotes\nBoth input lists will be of the same length, and will have a minimum length of 2.\nThe values of the 0-indexed element in the second list and the n-1th indexed element in the first list do not matter.\n",
      "metadata": {}
    },
    {
      "cell_type": "code",
      "source": "def simon_says(list1, list2):\n    return list1[:-1] == list2[1:]\n\n# Example usage:\nprint(simon_says([1, 2], [5, 1]))\n# Output: True\n\nprint(simon_says([1, 2], [5, 5]))\n# Output: False\n\nprint(simon_says([1, 2, 3, 4, 5], [0, 1, 2, 3, 4]))\n# Output: True\n\nprint(simon_says([1, 2, 3, 4, 5], [5, 5, 1, 2, 3]))\n# Output: False\n",
      "metadata": {},
      "execution_count": null,
      "outputs": []
    },
    {
      "cell_type": "markdown",
      "source": "3.A group of friends have decided to start a secret society. The name will be the first letter of each of their names, sorted in alphabetical order.\nCreate a function that takes in a list of names and returns the name of the secret society.\nExamples\nsociety_name([\"Adam\", \"Sarah\", \"Malcolm\"]) ➞ \"AMS\"\n\nsociety_name([\"Harry\", \"Newt\", \"Luna\", \"Cho\"]) ➞ \"CHLN\"\n\nsociety_name([\"Phoebe\", \"Chandler\", \"Rachel\", \"Ross\", \"Monica\", \"Joey\"])\n\n",
      "metadata": {}
    },
    {
      "cell_type": "code",
      "source": "def society_name(names):\n    initials = [name[0] for name in names]\n    secret_name = ''.join(sorted(initials))\n    return secret_name\n\n# Example usage:\nprint(society_name([\"Adam\", \"Sarah\", \"Malcolm\"]))\n# Output: \"AMS\"\n\nprint(society_name([\"Harry\", \"Newt\", \"Luna\", \"Cho\"]))\n# Output: \"CHLN\"\n\nprint(society_name([\"Phoebe\", \"Chandler\", \"Rachel\", \"Ross\", \"Monica\", \"Joey\"]))\n# Output: \"CCJMPR\"\n",
      "metadata": {},
      "execution_count": null,
      "outputs": []
    },
    {
      "cell_type": "markdown",
      "source": "4.An isogram is a word that has no duplicate letters. Create a function that takes a string and returns either True or False depending on whether or not it's an \"isogram\".\nExamples\nis_isogram(\"Algorism\") ➞ True\n\nis_isogram(\"PasSword\") ➞ False\n# Not case sensitive.\n\nis_isogram(\"Consecutive\") ➞ False\nNotes\nIgnore letter case (should not be case sensitive).\nAll test cases contain valid one word strings.\n",
      "metadata": {}
    },
    {
      "cell_type": "code",
      "source": "def is_isogram(word):\n    word_lower = word.lower()\n    return len(word_lower) == len(set(word_lower))\n\n# Example usage:\nprint(is_isogram(\"Algorism\"))\n# Output: True\n\nprint(is_isogram(\"PasSword\"))\n# Output: False\n\nprint(is_isogram(\"Consecutive\"))\n# Output: False\n",
      "metadata": {},
      "execution_count": null,
      "outputs": []
    },
    {
      "cell_type": "markdown",
      "source": "5.Create a function that takes a string and returns True or False, depending on whether the characters are in order or not.\nExamples\nis_in_order(\"abc\") ➞ True\n\nis_in_order(\"edabit\") ➞ False\n\nis_in_order(\"123\") ➞ True\n\nis_in_order(\"xyzz\") ➞ True\nNotes\nYou don't have to handle empty strings.\n\n",
      "metadata": {}
    },
    {
      "cell_type": "code",
      "source": "def is_in_order(txt):\n    for i in range(len(txt) - 1):\n        if ord(txt[i]) > ord(txt[i+1]):\n            return False\n    return True\n\n# Example usage:\nprint(is_in_order(\"abc\"))\n# Output: True\n\nprint(is_in_order(\"edabit\"))\n# Output: False\n\nprint(is_in_order(\"123\"))\n# Output: True\n\nprint(is_in_order(\"xyzz\"))\n# Output: True\n",
      "metadata": {},
      "execution_count": null,
      "outputs": []
    }
  ]
}