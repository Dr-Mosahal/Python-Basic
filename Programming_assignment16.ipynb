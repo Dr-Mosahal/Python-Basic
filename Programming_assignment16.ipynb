{
  "metadata": {
    "language_info": {
      "codemirror_mode": {
        "name": "python",
        "version": 3
      },
      "file_extension": ".py",
      "mimetype": "text/x-python",
      "name": "python",
      "nbconvert_exporter": "python",
      "pygments_lexer": "ipython3",
      "version": "3.8"
    },
    "kernelspec": {
      "name": "python",
      "display_name": "Python (Pyodide)",
      "language": "python"
    }
  },
  "nbformat_minor": 4,
  "nbformat": 4,
  "cells": [
    {
      "cell_type": "markdown",
      "source": "1.Write a function that stutters a word as if someone is struggling to read it. The first two letters are repeated twice with an ellipsis ... and space after each, and then the word is pronounced with a question mark ?.\nExamples\nstutter(\"incredible\") ➞ \"in... in... incredible?\"\n\nstutter(\"enthusiastic\") ➞ \"en... en... enthusiastic?\"\n\nstutter(\"outstanding\") ➞ \"ou... ou... outstanding?\"\n\nHint :- Assume all input is in lower case and at least two characters long.\n\n",
      "metadata": {}
    },
    {
      "cell_type": "code",
      "source": "def stutter(word):\n    stuttered_word = word[:2] + \"... \" + word[:2] + \"... \" + word + \"?\"\n    return stuttered_word\n",
      "metadata": {},
      "execution_count": null,
      "outputs": []
    },
    {
      "cell_type": "raw",
      "source": "2.Create a function that takes an angle in radians and returns the corresponding angle in degrees rounded to one decimal place.\nExamples\nradians_to_degrees(1) ➞ 57.3\n\nradians_to_degrees(20) ➞ 1145.9\n\nradians_to_degrees(50) ➞ 2864.8\n\n\n",
      "metadata": {}
    },
    {
      "cell_type": "code",
      "source": "import math\n\ndef radians_to_degrees(radians):\n    degrees = radians * (180 / math.pi)\n    return round(degrees, 1)\n",
      "metadata": {},
      "execution_count": null,
      "outputs": []
    },
    {
      "cell_type": "markdown",
      "source": "3.In this challenge, establish if a given integer num is a Curzon number. If 1 plus 2 elevated to num is exactly divisible by 1 plus 2 multiplied by num, then num is a Curzon number.\nGiven a non-negative integer num, implement a function that returns True if num is a Curzon number, or False otherwise.\nExamples\nis_curzon(5) ➞ True\n# 2 ** 5 + 1 = 33\n# 2 * 5 + 1 = 11\n# 33 is a multiple of 11\n\nis_curzon(10) ➞ False\n# 2 ** 10 + 1 = 1025\n# 2 * 10 + 1 = 21\n# 1025 is not a multiple of 21\n\nis_curzon(14) ➞ True\n# 2 ** 14 + 1 = 16385\n# 2 * 14 + 1 = 29\n# 16385 is a multiple of 29\n\n",
      "metadata": {}
    },
    {
      "cell_type": "code",
      "source": "def is_curzon(num):\n    numerator = 2 ** num + 1\n    denominator = 2 * num + 1\n    return numerator % denominator == 0\n",
      "metadata": {},
      "execution_count": null,
      "outputs": []
    },
    {
      "cell_type": "markdown",
      "source": "4.Given the side length x find the area of a hexagon.\n\nExamples\narea_of_hexagon(1) ➞ 2.6\n\narea_of_hexagon(2) ➞ 10.4\n\narea_of_hexagon(3) ➞ 23.4\n",
      "metadata": {}
    },
    {
      "cell_type": "code",
      "source": "import math\n\ndef area_of_hexagon(x):\n    area = (3 * math.sqrt(3) * x**2) / 2\n    return round(area, 1)\n",
      "metadata": {},
      "execution_count": null,
      "outputs": []
    },
    {
      "cell_type": "markdown",
      "source": "\n5.Create a function that returns a base-2 (binary) representation of a base-10 (decimal) string number. To convert is simple: ((2) means base-2 and (10) means base-10) 010101001(2) = 1 + 8 + 32 + 128.\nGoing from right to left, the value of the most right bit is 1, now from that every bit to the left will be x2 the value, value of an 8 bit binary numbers are (256, 128, 64, 32, 16, 8, 4, 2, 1).\nExamples\nbinary(1) ➞ \"1\"\n# 1*1 = 1\n\nbinary(5) ➞ \"101\"\n# 1*1 + 1*4 = 5\n\nbinary(10) ➞ \"1010\"\n# 1*2 + 1*8 = 10\n\n\n",
      "metadata": {}
    },
    {
      "cell_type": "code",
      "source": "def binary(decimal):\n    if decimal == 0:\n        return \"0\"\n    \n    binary_str = \"\"\n    while decimal > 0:\n        remainder = decimal % 2\n        binary_str = str(remainder) + binary_str\n        decimal //= 2\n    \n    return binary_str\n",
      "metadata": {},
      "execution_count": null,
      "outputs": []
    }
  ]
}