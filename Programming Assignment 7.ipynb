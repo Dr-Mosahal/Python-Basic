{
 "cells": [
  {
   "cell_type": "markdown",
   "id": "7122b0d7",
   "metadata": {},
   "source": [
    "# 1.Write a Python Program to find sum of array? "
   ]
  },
  {
   "cell_type": "code",
   "execution_count": 1,
   "id": "42fde4e2",
   "metadata": {},
   "outputs": [
    {
     "name": "stdout",
     "output_type": "stream",
     "text": [
      "10\n"
     ]
    }
   ],
   "source": [
    "def sum_array(array):\n",
    "    # Initialize a variable to store the sum\n",
    "    sum = 0\n",
    "    \n",
    "    # Iterate over the elements in the array\n",
    "    for element in array:\n",
    "        # Add the element to the sum\n",
    "        sum += element\n",
    "    \n",
    "    # Return the sum\n",
    "    return sum\n",
    "\n",
    "# Test the function\n",
    "print(sum_array([1, 2, 3, 4]))  # Output: 10\n"
   ]
  },
  {
   "cell_type": "markdown",
   "id": "9850cb54",
   "metadata": {},
   "source": [
    "# 2.Write a Python Program to find largest element in an array? "
   ]
  },
  {
   "cell_type": "code",
   "execution_count": 2,
   "id": "e8f08ba6",
   "metadata": {},
   "outputs": [
    {
     "name": "stdout",
     "output_type": "stream",
     "text": [
      "4\n",
      "-1\n"
     ]
    }
   ],
   "source": [
    "def find_largest(array):\n",
    "    # Initialize a variable to store the largest element\n",
    "    largest = array[0]\n",
    "    \n",
    "    # Iterate over the elements in the array\n",
    "    for element in array:\n",
    "        # If the element is larger than the current largest element, update the largest element\n",
    "        if element > largest:\n",
    "            largest = element\n",
    "    \n",
    "    # Return the largest element\n",
    "    return largest\n",
    "\n",
    "# Test the function\n",
    "print(find_largest([1, 2, 3, 4]))  # Output: 4\n",
    "print(find_largest([-1, -2, -3, -4]))  # Output: -1\n"
   ]
  },
  {
   "cell_type": "markdown",
   "id": "62970ae6",
   "metadata": {},
   "source": [
    "# 3.Write a Python Program for array rotation? "
   ]
  },
  {
   "cell_type": "code",
   "execution_count": 3,
   "id": "86aea21c",
   "metadata": {},
   "outputs": [
    {
     "name": "stdout",
     "output_type": "stream",
     "text": [
      "[3, 4, 5, 1, 2]\n"
     ]
    }
   ],
   "source": [
    "def rotate_left(array, k):\n",
    "    # Rotate the elements to the left by k places\n",
    "    for i in range(k):\n",
    "        # Remove the first element from the array and append it to the end\n",
    "        first_element = array.pop(0)\n",
    "        array.append(first_element)\n",
    "    \n",
    "    # Return the rotated array\n",
    "    return array\n",
    "\n",
    "# Test the function\n",
    "print(rotate_left([1, 2, 3, 4, 5], 2))  # Output: [3, 4, 5, 1, 2]\n"
   ]
  },
  {
   "cell_type": "markdown",
   "id": "1af20baa",
   "metadata": {},
   "source": [
    "\n",
    "# 4.Write a Python Program to Split the array and add the first part to the end?"
   ]
  },
  {
   "cell_type": "code",
   "execution_count": 4,
   "id": "ad6e1d1d",
   "metadata": {},
   "outputs": [
    {
     "name": "stdout",
     "output_type": "stream",
     "text": [
      "[3, 4, 5, 1, 2]\n",
      "[4, 5, 6, 1, 2, 3]\n"
     ]
    }
   ],
   "source": [
    "def split_and_add(array):\n",
    "    # Calculate the middle index of the array\n",
    "    middle_index = len(array) // 2\n",
    "    \n",
    "    # Split the array in half\n",
    "    first_half = array[:middle_index]\n",
    "    second_half = array[middle_index:]\n",
    "    \n",
    "    # Add the first half to the end of the array\n",
    "    result = second_half + first_half\n",
    "    \n",
    "    # Return the modified array\n",
    "    return result\n",
    "\n",
    "# Test the function\n",
    "print(split_and_add([1, 2, 3, 4, 5]))  # Output: [3, 4, 5, 1, 2]\n",
    "print(split_and_add([1, 2, 3, 4, 5, 6]))  # Output: [4, 5, 6, 1, 2, 3]\n"
   ]
  },
  {
   "cell_type": "markdown",
   "id": "f74fe4a1",
   "metadata": {},
   "source": [
    " \n",
    "# 5.Write a Python Program to check if given array is Monotonic?"
   ]
  },
  {
   "cell_type": "code",
   "execution_count": 5,
   "id": "9474813b",
   "metadata": {},
   "outputs": [
    {
     "name": "stdout",
     "output_type": "stream",
     "text": [
      "True\n",
      "True\n",
      "True\n",
      "False\n"
     ]
    }
   ],
   "source": [
    "def is_monotonic(array):\n",
    "    # Check if the array is non-decreasing\n",
    "    increasing = True\n",
    "    for i in range(1, len(array)):\n",
    "        if array[i] < array[i-1]:\n",
    "            increasing = False\n",
    "            break\n",
    "    \n",
    "    # Check if the array is non-increasing\n",
    "    decreasing = True\n",
    "    for i in range(1, len(array)):\n",
    "        if array[i] > array[i-1]:\n",
    "            decreasing = False\n",
    "            break\n",
    "    \n",
    "    # Return True if the array is either non-decreasing or non-increasing, False otherwise\n",
    "    return increasing or decreasing\n",
    "\n",
    "# Test the function\n",
    "print(is_monotonic([1, 2, 3, 4, 5]))  # Output: True\n",
    "print(is_monotonic([5, 4, 3, 2, 1]))  # Output: True\n",
    "print(is_monotonic([1, 1, 1, 1, 1]))  # Output: True\n",
    "print(is_monotonic([1, 2, 3, 2, 1]))  # Output: False"
   ]
  }
 ],
 "metadata": {
  "kernelspec": {
   "display_name": "Python 3 (ipykernel)",
   "language": "python",
   "name": "python3"
  },
  "language_info": {
   "codemirror_mode": {
    "name": "ipython",
    "version": 3
   },
   "file_extension": ".py",
   "mimetype": "text/x-python",
   "name": "python",
   "nbconvert_exporter": "python",
   "pygments_lexer": "ipython3",
   "version": "3.9.12"
  }
 },
 "nbformat": 4,
 "nbformat_minor": 5
}
