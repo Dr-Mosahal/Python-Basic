{
  "metadata": {
    "language_info": {
      "codemirror_mode": {
        "name": "python",
        "version": 3
      },
      "file_extension": ".py",
      "mimetype": "text/x-python",
      "name": "python",
      "nbconvert_exporter": "python",
      "pygments_lexer": "ipython3",
      "version": "3.8"
    },
    "kernelspec": {
      "name": "python",
      "display_name": "Python (Pyodide)",
      "language": "python"
    }
  },
  "nbformat_minor": 4,
  "nbformat": 4,
  "cells": [
    {
      "cell_type": "markdown",
      "source": "1.Define a class with a generator which can iterate the numbers, which are divisible by 7, between a given range 0 and n.\n\n",
      "metadata": {}
    },
    {
      "cell_type": "code",
      "source": "class DivisibleBySeven:\n    def __init__(self, n):\n        self.n = n\n    \n    def generate_divisible_by_seven(self):\n        for i in range(self.n + 1):\n            if i % 7 == 0:\n                yield i\n",
      "metadata": {},
      "execution_count": null,
      "outputs": []
    },
    {
      "cell_type": "markdown",
      "source": "2.Write a program to compute the frequency of the words from the input. The output should output after sorting the key alphanumerically. \nSuppose the following input is supplied to the program:\nNew to Python or choosing between Python 2 and Python 3? Read Python 2 or Python 3.\nThen, the output should be:\n2:2\n3.:1\n3?:1\nNew:1\nPython:5\nRead:1\nand:1\nbetween:1\nchoosing:1\nor:2\nto:1\n",
      "metadata": {}
    },
    {
      "cell_type": "code",
      "source": "from collections import Counter\n\ndef word_frequency(text):\n    words = text.split()\n    counter = Counter(words)\n    sorted_counter = sorted(counter.items(), key=lambda x: x[0])\n    for word, count in sorted_counter:\n        print(f\"{word}:{count}\")\n\ntext = input(\"Enter the input text: \")\nword_frequency(text)\n",
      "metadata": {},
      "execution_count": null,
      "outputs": []
    },
    {
      "cell_type": "markdown",
      "source": "3.Define a class Person and its two child classes: Male and Female. All classes have a method \"getGender\" which can print \"Male\" for Male class and \"Female\" for Female class.\n",
      "metadata": {}
    },
    {
      "cell_type": "code",
      "source": "class Person:\n    def getGender(self):\n        print(\"Unknown\")\n\nclass Male(Person):\n    def getGender(self):\n        print(\"Male\")\n\nclass Female(Person):\n    def getGender(self):\n        print(\"Female\")\n",
      "metadata": {},
      "execution_count": null,
      "outputs": []
    },
    {
      "cell_type": "markdown",
      "source": "4.Please write a program to generate all sentences where subject is in [\"I\", \"You\"] and verb is in [\"Play\", \"Love\"] and the object is in [\"Hockey\",\"Football\"].\n\n\n",
      "metadata": {}
    },
    {
      "cell_type": "code",
      "source": "subjects = [\"I\", \"You\"]\nverbs = [\"Play\", \"Love\"]\nobjects = [\"Hockey\", \"Football\"]\n\nsentences = []\n\nfor subject in subjects:\n    for verb in verbs:\n        for obj in objects:\n            sentence = subject + \" \" + verb + \" \" + obj + \".\"\n            sentences.append(sentence)\n\nfor sentence in sentences:\n    print(sentence)\n",
      "metadata": {},
      "execution_count": null,
      "outputs": []
    },
    {
      "cell_type": "markdown",
      "source": "5.Please write a program to compress and decompress the string \"hello world!hello world!hello world!hello world!\".\n",
      "metadata": {}
    },
    {
      "cell_type": "code",
      "source": "import gzip\n\n# Compress the string\nstring_to_compress = \"hello world!hello world!hello world!hello world!\"\ncompressed_data = gzip.compress(string_to_compress.encode())\n\n# Decompress the compressed data\ndecompressed_data = gzip.decompress(compressed_data).decode()\n\nprint(\"Original string:\", string_to_compress)\nprint(\"Compressed data:\", compressed_data)\nprint(\"Decompressed string:\", decompressed_data)\n",
      "metadata": {},
      "execution_count": null,
      "outputs": []
    },
    {
      "cell_type": "markdown",
      "source": "6.Please write a binary search function which searches an item in a sorted list. The function should return the index of element to be searched in the list.\n",
      "metadata": {}
    },
    {
      "cell_type": "code",
      "source": "def binary_search(arr, target):\n    left = 0\n    right = len(arr) - 1\n    \n    while left <= right:\n        mid = (left + right) // 2\n        if arr[mid] == target:\n            return mid\n        elif arr[mid] < target:\n            left = mid + 1\n        else:\n            right = mid - 1\n    \n    return -1\n",
      "metadata": {},
      "execution_count": null,
      "outputs": []
    }
  ]
}