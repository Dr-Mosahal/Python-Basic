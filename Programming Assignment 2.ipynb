{
 "cells": [
  {
   "cell_type": "markdown",
   "id": "994b10e0",
   "metadata": {},
   "source": [
    "# 1.Write a python program to convert kilometers to miles"
   ]
  },
  {
   "cell_type": "code",
   "execution_count": 2,
   "id": "84726513",
   "metadata": {},
   "outputs": [
    {
     "name": "stdout",
     "output_type": "stream",
     "text": [
      "10 kilometers is equal to 6.213170999999999 miles.\n"
     ]
    }
   ],
   "source": [
    "def convert_kilometers_to_miles(kilometers):\n",
    "    miles=kilometers*0.6213171\n",
    "    return miles\n",
    "kilometers=10\n",
    "print(f\"{kilometers} kilometers is equal to {convert_kilometers_to_miles(kilometers)} miles.\")"
   ]
  },
  {
   "cell_type": "markdown",
   "id": "3f152abf",
   "metadata": {},
   "source": [
    "# 2.Write a python program to convert celsius to fahrenheit?"
   ]
  },
  {
   "cell_type": "code",
   "execution_count": 3,
   "id": "91bbd554",
   "metadata": {},
   "outputs": [
    {
     "name": "stdout",
     "output_type": "stream",
     "text": [
      "37.5 degrees celsius is equal to 99.5 degrees fahrenheit\n"
     ]
    }
   ],
   "source": [
    "def convert_celsius_to_fahrenheit(celsius):\n",
    "    fahrenheit=celsius*9/5+32\n",
    "    return fahrenheit\n",
    "celsius = 37.5\n",
    "print(f\"{celsius} degrees celsius is equal to {convert_celsius_to_fahrenheit(celsius)} degrees fahrenheit\")"
   ]
  },
  {
   "cell_type": "markdown",
   "id": "08d9810c",
   "metadata": {},
   "source": [
    "# 3.Write a python program to display calender?"
   ]
  },
  {
   "cell_type": "code",
   "execution_count": 5,
   "id": "d6c2d6f9",
   "metadata": {},
   "outputs": [
    {
     "name": "stdout",
     "output_type": "stream",
     "text": [
      "January 2022\n",
      "Mo Tu We Th Fr Sa Su\n",
      "           1  2 \n",
      " 3  4  5  6  7  8  9 \n",
      "10 11 12 13 14 15 16 \n",
      "17 18 19 20 21 22 23 \n",
      "24 25 26 27 28 29 30 \n",
      "31             \n"
     ]
    }
   ],
   "source": [
    "import calendar\n",
    "\n",
    "def show_calendar(year, month):\n",
    "  # Display the calendar for the given month and year\n",
    "  cal = calendar.monthcalendar(year, month)\n",
    "  print(calendar.month_name[month], year)\n",
    "  print(\"Mo Tu We Th Fr Sa Su\")\n",
    "  for week in cal:\n",
    "    for day in week:\n",
    "      if day == 0:\n",
    "        print(\"  \", end=\"\")\n",
    "      else:\n",
    "        print(f\"{day:2}\", end=\" \")\n",
    "    print()\n",
    "\n",
    "# Test the function by showing the calendar for January 2022\n",
    "show_calendar(2022, 1)"
   ]
  },
  {
   "cell_type": "markdown",
   "id": "843af3b2",
   "metadata": {},
   "source": [
    "# 4.Write a python program to solve quadratic equation?"
   ]
  },
  {
   "cell_type": "code",
   "execution_count": null,
   "id": "53fa4ad2",
   "metadata": {},
   "outputs": [],
   "source": [
    "import cmath\n",
    "\n",
    "def solve_quadratic_equation(a, b, c):\n",
    "  # Calculate the discriminant\n",
    "  discriminant = b**2 - 4*a*c\n",
    "\n",
    "  # Calculate the solutions\n",
    "  if discriminant > 0:\n",
    "    # Real solutions\n",
    "    x1 = (-b + cmath.sqrt(discriminant)) / (2*a)\n",
    "    x2 = (-b - cmath.sqrt(discriminant)) / (2*a)\n",
    "    return x1, x2\n",
    "  elif discriminant == 0:\n",
    "    # One real solution\n",
    "    x = -b / (2*a)\n",
    "    return x,\n",
    "  else:\n",
    "    # Complex solutions\n",
    "    x1 = (-b + cmath.sqrt(discriminant)) / (2*a)\n",
    "    x2 = (-b - cmath.sqrt(discriminant)) / (2*a)\n",
    "    return x1, x2\n",
    "# Test the function by solving the equation x^2 - 4x + 3 = 0\n",
    "a = 1\n",
    "b = -4\n",
    "c = 3\n",
    "solutions = solve_quadratic_equation(a, b, c)\n",
    "print(f\"The solutions to the equation {a}x^2 + {b}x + {c} = 0 are:\")\n",
    "for x in solutions:\n",
    "  print(x)"
   ]
  },
  {
   "cell_type": "markdown",
   "id": "cbdb374c",
   "metadata": {},
   "source": [
    "# 5.Write a python program to swap two variables without temp variable?"
   ]
  },
  {
   "cell_type": "code",
   "execution_count": null,
   "id": "53ea70a0",
   "metadata": {},
   "outputs": [],
   "source": [
    "x = 1\n",
    "y = 2\n",
    "\n",
    "# Swap the values of x and y\n",
    "x, y = y, x\n",
    "\n",
    "print(f\"x = {x}, y = {y}\")"
   ]
  }
 ],
 "metadata": {
  "kernelspec": {
   "display_name": "Python 3 (ipykernel)",
   "language": "python",
   "name": "python3"
  },
  "language_info": {
   "codemirror_mode": {
    "name": "ipython",
    "version": 3
   },
   "file_extension": ".py",
   "mimetype": "text/x-python",
   "name": "python",
   "nbconvert_exporter": "python",
   "pygments_lexer": "ipython3",
   "version": "3.9.12"
  }
 },
 "nbformat": 4,
 "nbformat_minor": 5
}
