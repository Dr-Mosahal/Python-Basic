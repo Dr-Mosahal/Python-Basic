{
  "metadata": {
    "language_info": {
      "codemirror_mode": {
        "name": "python",
        "version": 3
      },
      "file_extension": ".py",
      "mimetype": "text/x-python",
      "name": "python",
      "nbconvert_exporter": "python",
      "pygments_lexer": "ipython3",
      "version": "3.8"
    },
    "kernelspec": {
      "name": "python",
      "display_name": "Python (Pyodide)",
      "language": "python"
    }
  },
  "nbformat_minor": 4,
  "nbformat": 4,
  "cells": [
    {
      "cell_type": "markdown",
      "source": "1.Create a function that takes a string and returns a string in which each character is repeated once.\nExamples\ndouble_char(\"String\") ➞ \"SSttrriinngg\"\n\ndouble_char(\"Hello World!\") ➞ \"HHeelllloo  WWoorrlldd!!\"\n\ndouble_char(\"1234!_ \") ➞ \"11223344!!__  \"\n\n",
      "metadata": {}
    },
    {
      "cell_type": "code",
      "source": "def double_char(txt):\n    result = \"\"\n    for char in txt:\n        result += char * 2\n    return result\n",
      "metadata": {},
      "execution_count": null,
      "outputs": []
    },
    {
      "cell_type": "markdown",
      "source": "2.Create a function that reverses a boolean value and returns the string \"boolean expected\" if another variable type is given.\nExamples\nreverse(True) ➞ False\n\nreverse(False) ➞ True\n\nreverse(0) ➞ \"boolean expected\"\n\nreverse(None) ➞ \"boolean expected\"\n\n",
      "metadata": {}
    },
    {
      "cell_type": "code",
      "source": "def reverse(b):\n    if isinstance(b, bool):\n        return not b\n    else:\n        return \"boolean expected\"\n",
      "metadata": {},
      "execution_count": null,
      "outputs": []
    },
    {
      "cell_type": "markdown",
      "source": "3.Create a function that returns the thickness (in meters) of a piece of paper after folding it n number of times. The paper starts off with a thickness of 0.5mm.\nExamples\nnum_layers(1) ➞ \"0.001m\"\n# Paper folded once is 1mm (equal to 0.001m)\n\nnum_layers(4) ➞ \"0.008m\"\n# Paper folded 4 times is 8mm (equal to 0.008m)\n\nnum_layers(21) ➞ \"1048.576m\"\n# Paper folded 21 times is 1048576mm (equal to 1048.576m)\n\n\n",
      "metadata": {}
    },
    {
      "cell_type": "code",
      "source": "def num_layers(n):\n    thickness_mm = 0.5 * (2 ** n)\n    thickness_m = thickness_mm / 1000  # Convert mm to meters\n    return f\"{thickness_m:.3f}m\"\n",
      "metadata": {},
      "execution_count": null,
      "outputs": []
    },
    {
      "cell_type": "markdown",
      "source": "4.Create a function that takes a single string as argument and returns an ordered list containing the indices of all capital letters in the string.\nExamples\nindex_of_caps(\"eDaBiT\") ➞ [1, 3, 5]\n\nindex_of_caps(\"eQuINoX\") ➞ [1, 3, 4, 6]\n\nindex_of_caps(\"determine\") ➞ []\n\nindex_of_caps(\"STRIKE\") ➞ [0, 1, 2, 3, 4, 5]\n\nindex_of_caps(\"sUn\") ➞ [1]\n\n",
      "metadata": {}
    },
    {
      "cell_type": "code",
      "source": "def index_of_caps(word):\n    indices = []\n    for i in range(len(word)):\n        if word[i].isupper():\n            indices.append(i)\n    return indices\n",
      "metadata": {},
      "execution_count": null,
      "outputs": []
    },
    {
      "cell_type": "markdown",
      "source": "5.Using list comprehensions, create a function that finds all even numbers from 1 to the given number.\nExamples\nfind_even_nums(8) ➞ [2, 4, 6, 8]\n\nfind_even_nums(4) ➞ [2, 4]\n\nfind_even_nums(2) ➞ [2]\n\n",
      "metadata": {}
    },
    {
      "cell_type": "code",
      "source": "def find_even_nums(n):\n    return [x for x in range(1, n+1) if x % 2 == 0]\n",
      "metadata": {},
      "execution_count": null,
      "outputs": []
    }
  ]
}