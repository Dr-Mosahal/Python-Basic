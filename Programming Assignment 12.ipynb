{
 "cells": [
  {
   "cell_type": "markdown",
   "id": "b15d95f6",
   "metadata": {},
   "source": [
    "# 1.Write a Python program to Extract Unique values dictionary values? \n"
   ]
  },
  {
   "cell_type": "code",
   "execution_count": 1,
   "id": "80223d71",
   "metadata": {},
   "outputs": [
    {
     "name": "stdout",
     "output_type": "stream",
     "text": [
      "{1, 2, 3}\n"
     ]
    }
   ],
   "source": [
    "def extract_unique_values(dictionary):\n",
    "  unique_values = set()\n",
    "  for value in dictionary.values():\n",
    "    unique_values.add(value)\n",
    "  return unique_values\n",
    "d = {'a': 1, 'b': 2, 'c': 3, 'd': 1}\n",
    "unique_values = extract_unique_values(d)\n",
    "print(unique_values)  # prints {1, 2, 3}\n"
   ]
  },
  {
   "cell_type": "markdown",
   "id": "560806ff",
   "metadata": {},
   "source": [
    "# 2.Write a Python program to find the sum of all items in a dictionary? \n"
   ]
  },
  {
   "cell_type": "code",
   "execution_count": 2,
   "id": "41ec37e7",
   "metadata": {},
   "outputs": [
    {
     "name": "stdout",
     "output_type": "stream",
     "text": [
      "10\n"
     ]
    }
   ],
   "source": [
    "def sum_dictionary_values(dictionary):\n",
    "  total = 0\n",
    "  for value in dictionary.values():\n",
    "    total += value\n",
    "  return total\n",
    "d = {'a': 1, 'b': 2, 'c': 3, 'd': 4}\n",
    "total = sum_dictionary_values(d)\n",
    "print(total)  # prints 10\n"
   ]
  },
  {
   "cell_type": "markdown",
   "id": "0d86f3b9",
   "metadata": {},
   "source": [
    "# 3.Write a Python program to Merging two Dictionaries? \n"
   ]
  },
  {
   "cell_type": "code",
   "execution_count": 3,
   "id": "5014ea2d",
   "metadata": {},
   "outputs": [
    {
     "name": "stdout",
     "output_type": "stream",
     "text": [
      "{'a': 1, 'b': 2, 'c': 3, 'd': 4}\n"
     ]
    }
   ],
   "source": [
    "def merge_dictionaries(dict1, dict2):\n",
    "  merged = {}\n",
    "  for key, value in dict1.items():\n",
    "    merged[key] = value\n",
    "  for key, value in dict2.items():\n",
    "    merged[key] = value\n",
    "  return merged\n",
    "dict1 = {'a': 1, 'b': 2}\n",
    "dict2 = {'c': 3, 'd': 4}\n",
    "merged = merge_dictionaries(dict1, dict2)\n",
    "print(merged)  # prints {'a': 1, 'b': 2, 'c': 3, 'd': 4}\n"
   ]
  },
  {
   "cell_type": "markdown",
   "id": "31bd0cb4",
   "metadata": {},
   "source": [
    "# 4.Write a Python program to convert key-values list to flat dictionary? \n"
   ]
  },
  {
   "cell_type": "code",
   "execution_count": 4,
   "id": "51f65761",
   "metadata": {},
   "outputs": [
    {
     "name": "stdout",
     "output_type": "stream",
     "text": [
      "{'a': 1, 'b': 2, 'c': 3}\n"
     ]
    }
   ],
   "source": [
    "def flatten_dictionary(key_value_list):\n",
    "  flat = {}\n",
    "  for key, value in key_value_list:\n",
    "    flat[key] = value\n",
    "  return flat\n",
    "key_value_list = [('a', 1), ('b', 2), ('c', 3)]\n",
    "flat = flatten_dictionary(key_value_list)\n",
    "print(flat)  # prints {'a': 1, 'b': 2, 'c': 3}\n"
   ]
  },
  {
   "cell_type": "markdown",
   "id": "ca8362a7",
   "metadata": {},
   "source": [
    "# 5.Write a Python program to insertion at the beginning in OrderedDict? \n"
   ]
  },
  {
   "cell_type": "code",
   "execution_count": 5,
   "id": "d6f19e8e",
   "metadata": {},
   "outputs": [
    {
     "name": "stdout",
     "output_type": "stream",
     "text": [
      "OrderedDict([('d', 4), ('a', 1), ('b', 2), ('c', 3)])\n"
     ]
    }
   ],
   "source": [
    "from collections import OrderedDict\n",
    "\n",
    "def insert_at_beginning(ordered_dict, key, value):\n",
    "  new_ordered_dict = OrderedDict()\n",
    "  new_ordered_dict[key] = value\n",
    "  for key, value in ordered_dict.items():\n",
    "    new_ordered_dict[key] = value\n",
    "  return new_ordered_dict\n",
    "ordered_dict = OrderedDict([('a', 1), ('b', 2), ('c', 3)])\n",
    "new_ordered_dict = insert_at_beginning(ordered_dict, 'd', 4)\n",
    "print(new_ordered_dict)  # prints OrderedDict([('d', 4), ('a', 1), ('b', 2), ('c', 3)])\n"
   ]
  },
  {
   "cell_type": "markdown",
   "id": "d3caa311",
   "metadata": {},
   "source": [
    "# 6.Write a Python program to check order of character in string using OrderedDict()?\n"
   ]
  },
  {
   "cell_type": "code",
   "execution_count": 6,
   "id": "2d9441cb",
   "metadata": {},
   "outputs": [
    {
     "name": "stdout",
     "output_type": "stream",
     "text": [
      "OrderedDict([('h', None), ('e', None), ('l', None), ('o', None)])\n"
     ]
    }
   ],
   "source": [
    "from collections import OrderedDict\n",
    "\n",
    "def check_order(s):\n",
    "  order = OrderedDict()\n",
    "  for c in s:\n",
    "    if c not in order:\n",
    "      order[c] = None\n",
    "  return order\n",
    "order = check_order(\"hello\")\n",
    "print(order)  # prints OrderedDict([('h', None), ('e', None), ('l', None), ('o', None)])\n"
   ]
  },
  {
   "cell_type": "markdown",
   "id": "9fa16810",
   "metadata": {},
   "source": [
    "# 7.Write a Python program to sort Python Dictionaries by Key or Value?"
   ]
  },
  {
   "cell_type": "code",
   "execution_count": 7,
   "id": "96d35df0",
   "metadata": {},
   "outputs": [
    {
     "name": "stdout",
     "output_type": "stream",
     "text": [
      "{'a': 1, 'b': 2, 'c': 3}\n"
     ]
    }
   ],
   "source": [
    "def sort_dictionary_by_key(dictionary):\n",
    "  return {k: dictionary[k] for k in sorted(dictionary)}\n",
    "d = {'c': 3, 'a': 1, 'b': 2}\n",
    "sorted_d = sort_dictionary_by_key(d)\n",
    "print(sorted_d)  # prints {'a': 1, 'b': 2, 'c': 3}"
   ]
  }
 ],
 "metadata": {
  "kernelspec": {
   "display_name": "Python 3 (ipykernel)",
   "language": "python",
   "name": "python3"
  },
  "language_info": {
   "codemirror_mode": {
    "name": "ipython",
    "version": 3
   },
   "file_extension": ".py",
   "mimetype": "text/x-python",
   "name": "python",
   "nbconvert_exporter": "python",
   "pygments_lexer": "ipython3",
   "version": "3.9.12"
  }
 },
 "nbformat": 4,
 "nbformat_minor": 5
}
