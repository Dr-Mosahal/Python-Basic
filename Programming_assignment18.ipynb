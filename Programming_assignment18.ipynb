{
  "metadata": {
    "language_info": {
      "codemirror_mode": {
        "name": "python",
        "version": 3
      },
      "file_extension": ".py",
      "mimetype": "text/x-python",
      "name": "python",
      "nbconvert_exporter": "python",
      "pygments_lexer": "ipython3",
      "version": "3.8"
    },
    "kernelspec": {
      "name": "python",
      "display_name": "Python (Pyodide)",
      "language": "python"
    }
  },
  "nbformat_minor": 4,
  "nbformat": 4,
  "cells": [
    {
      "cell_type": "markdown",
      "source": "1. Create a function that takes a list of non-negative integers and strings and return a new list without the strings.\nExamples\nfilter_list([1, 2, \"a\", \"b\"]) ➞ [1, 2]\n\nfilter_list([1, \"a\", \"b\", 0, 15]) ➞ [1, 0, 15]\n\nfilter_list([1, 2, \"aasf\", \"1\", \"123\", 123]) ➞ [1, 2, 123]\n\n",
      "metadata": {}
    },
    {
      "cell_type": "code",
      "source": "def filter_list(lst):\n    return [x for x in lst if isinstance(x, int)]\n\n# Example usage:\nprint(filter_list([1, 2, \"a\", \"b\"]))\n# Output: [1, 2]\n\nprint(filter_list([1, \"a\", \"b\", 0, 15]))\n# Output: [1, 0, 15]\n\nprint(filter_list([1, 2, \"aasf\", \"1\", \"123\", 123]))\n# Output: [1, 2, 123]\n",
      "metadata": {},
      "execution_count": null,
      "outputs": []
    },
    {
      "cell_type": "markdown",
      "source": "2.The \"Reverser\" takes a string as input and returns that string in reverse order, with the opposite case.\nExamples\nreverse(\"Hello World\") ➞ \"DLROw OLLEh\"\n\nreverse(\"ReVeRsE\") ➞ \"eSrEvEr\"\n\nreverse(\"Radar\") ➞ \"RADAr\"\n\n",
      "metadata": {}
    },
    {
      "cell_type": "code",
      "source": "def reverse(txt):\n    reversed_txt = txt[::-1]  # Reverse the string\n    reversed_txt = reversed_txt.swapcase()  # Swap the case of characters\n    return reversed_txt\n\n# Example usage:\nprint(reverse(\"Hello World\"))\n# Output: \"DLROw OLLEh\"\n\nprint(reverse(\"ReVeRsE\"))\n# Output: \"eSrEvEr\"\n\nprint(reverse(\"Radar\"))\n# Output: \"RADAr\"\n",
      "metadata": {},
      "execution_count": null,
      "outputs": []
    },
    {
      "cell_type": "markdown",
      "source": "3.You can assign variables from lists like this:\nlst = [1, 2, 3, 4, 5, 6]\nfirst = lst[0]\nmiddle = lst[1:-1]\nlast = lst[-1]\n\nprint(first) ➞ outputs 1\nprint(middle) ➞ outputs [2, 3, 4, 5]\nprint(last) ➞ outputs 6\nWith Python 3, you can assign variables from lists in a much more succinct way. Create variables first, middle and last from the given list using destructuring assignment (check the Resources tab for some examples), where:\nfirst  ➞ 1\n\nmiddle ➞ [2, 3, 4, 5]\n\nlast ➞ 6\nYour task is to unpack the list writeyourcodehere into three variables, being first, middle, and last, with middle being everything in between the first and last element. Then print all three variables.\n\n",
      "metadata": {}
    },
    {
      "cell_type": "code",
      "source": "lst = [1, 2, 3, 4, 5, 6]\nfirst, *middle, last = lst\n\nprint(first)  # Output: 1\nprint(middle)  # Output: [2, 3, 4, 5]\nprint(last)  # Output: 6\n",
      "metadata": {},
      "execution_count": null,
      "outputs": []
    },
    {
      "cell_type": "markdown",
      "source": "4.Write a function that calculates the factorial of a number recursively.\nExamples\nfactorial(5) ➞ 120\n\nfactorial(3) ➞ 6\n\nfactorial(1) ➞ 1\n\nfactorial(0) ➞ 1\n",
      "metadata": {}
    },
    {
      "cell_type": "code",
      "source": "def factorial(n):\n    if n == 0 or n == 1:\n        return 1\n    else:\n        return n * factorial(n - 1)\n",
      "metadata": {},
      "execution_count": null,
      "outputs": []
    },
    {
      "cell_type": "markdown",
      "source": "5.Write a function that moves all elements of one type to the end of the list.\nExamples\nmove_to_end([1, 3, 2, 4, 4, 1], 1) ➞ [3, 2, 4, 4, 1, 1]\n# Move all the 1s to the end of the array.\n\nmove_to_end([7, 8, 9, 1, 2, 3, 4], 9) ➞ [7, 8, 1, 2, 3, 4, 9]\n\nmove_to_end([\"a\", \"a\", \"a\", \"b\"], \"a\") ➞ [\"b\", \"a\", \"a\", \"a\"]\n\n",
      "metadata": {}
    },
    {
      "cell_type": "code",
      "source": "def move_to_end(lst, element):\n    count = lst.count(element)  # Count the occurrences of the element\n    filtered_lst = [x for x in lst if x != element]  # Filter out the element\n    return filtered_lst + [element] * count  # Combine the filtered list and the element repeated count times\n",
      "metadata": {},
      "execution_count": null,
      "outputs": []
    }
  ]
}