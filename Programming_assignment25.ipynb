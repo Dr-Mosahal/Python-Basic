{
  "metadata": {
    "language_info": {
      "codemirror_mode": {
        "name": "python",
        "version": 3
      },
      "file_extension": ".py",
      "mimetype": "text/x-python",
      "name": "python",
      "nbconvert_exporter": "python",
      "pygments_lexer": "ipython3",
      "version": "3.8"
    },
    "kernelspec": {
      "name": "python",
      "display_name": "Python (Pyodide)",
      "language": "python"
    }
  },
  "nbformat_minor": 4,
  "nbformat": 4,
  "cells": [
    {
      "cell_type": "markdown",
      "source": "1.Create a function that takes three integer arguments (a, b, c) and returns the amount of integers which are of equal value.\nExamples\nequal(3, 4, 3) ➞ 2\n\nequal(1, 1, 1) ➞ 3\n\nequal(3, 4, 1) ➞ 0 \nNotes\nYour function must return 0, 2 or 3.\n",
      "metadata": {}
    },
    {
      "cell_type": "code",
      "source": "def equal(a, b, c):\n    if a == b == c:\n        return 3\n    elif a == b or b == c or a == c:\n        return 2\n    else:\n        return 0\n",
      "metadata": {},
      "execution_count": null,
      "outputs": []
    },
    {
      "cell_type": "markdown",
      "source": "2.Write a function that converts a dictionary into a list of keys-values tuples.\nExamples\ndict_to_list({\n  \"D\": 1,\n  \"B\": 2,\n  \"C\": 3\n}) ➞ [(\"B\", 2), (\"C\", 3), (\"D\", 1)]\n\ndict_to_list({\n  \"likes\": 2,\n  \"dislikes\": 3,\n  \"followers\": 10\n}) ➞ [(\"dislikes\", 3), (\"followers\", 10), (\"likes\", 2)]\nNotes\nReturn the elements in the list in alphabetical order.\n",
      "metadata": {}
    },
    {
      "cell_type": "code",
      "source": "def dict_to_list(dictionary):\n    return sorted(dictionary.items())\n\n# Example usage:\ndict1 = {\n  \"D\": 1,\n  \"B\": 2,\n  \"C\": 3\n}\nprint(dict_to_list(dict1))\n# Output: [('B', 2), ('C', 3), ('D', 1)]\n\ndict2 = {\n  \"likes\": 2,\n  \"dislikes\": 3,\n  \"followers\": 10\n}\nprint(dict_to_list(dict2))\n# Output: [('dislikes', 3), ('followers', 10), ('likes', 2)]\n",
      "metadata": {},
      "execution_count": null,
      "outputs": []
    },
    {
      "cell_type": "markdown",
      "source": "3.Write a function that creates a dictionary with each (key, value) pair being the (lower case, upper case) versions of a letter, respectively.\nExamples\nmapping([\"p\", \"s\"]) ➞ { \"p\": \"P\", \"s\": \"S\" }\n\nmapping([\"a\", \"b\", \"c\"]) ➞ { \"a\": \"A\", \"b\": \"B\", \"c\": \"C\" }\n\nmapping([\"a\", \"v\", \"y\", \"z\"]) ➞ { \"a\": \"A\", \"v\": \"V\", \"y\": \"Y\", \"z\": \"Z\" }\nNotes\nAll of the letters in the input list will always be lowercase.\n",
      "metadata": {}
    },
    {
      "cell_type": "code",
      "source": "def mapping(letters):\n    return {letter: letter.upper() for letter in letters}\n\n# Example usage:\nprint(mapping([\"p\", \"s\"]))\n# Output: {'p': 'P', 's': 'S'}\n\nprint(mapping([\"a\", \"b\", \"c\"]))\n# Output: {'a': 'A', 'b': 'B', 'c': 'C'}\n\nprint(mapping([\"a\", \"v\", \"y\", \"z\"]))\n# Output: {'a': 'A', 'v': 'V', 'y': 'Y', 'z': 'Z'}\n",
      "metadata": {},
      "execution_count": null,
      "outputs": []
    },
    {
      "cell_type": "markdown",
      "source": "4.Question4\nWrite a function, that replaces all vowels in a string with a specified vowel.\nExamples\nvow_replace(\"apples and bananas\", \"u\") ➞ \"upplus und bununus\"\n\nvow_replace(\"cheese casserole\", \"o\") ➞ \"chooso cossorolo\"\n\nvow_replace(\"stuffed jalapeno poppers\", \"e\") ➞ \"steffed jelepene peppers\"\nNotes\nAll words will be lowercase. Y is not considered a vowel.\n\n",
      "metadata": {}
    },
    {
      "cell_type": "code",
      "source": "def vow_replace(string, vowel):\n    vowels = 'aeiou'\n    new_string = ''\n    for char in string:\n        if char.lower() in vowels:\n            new_string += vowel\n        else:\n            new_string += char\n    return new_string\n\n# Example usage:\nprint(vow_replace(\"apples and bananas\", \"u\"))\n# Output: \"upplus und bununus\"\n\nprint(vow_replace(\"cheese casserole\", \"o\"))\n# Output: \"chooso cossorolo\"\n\nprint(vow_replace(\"stuffed jalapeno poppers\", \"e\"))\n# Output: \"steffed jelepene peppers\"\n",
      "metadata": {},
      "execution_count": null,
      "outputs": []
    },
    {
      "cell_type": "markdown",
      "source": "5.Create a function that takes a string as input and capitalizes a letter if its ASCII code is even and returns its lower case version if its ASCII code is odd.\nExamples\nascii_capitalize(\"to be or not to be!\") ➞ \"To Be oR NoT To Be!\"\n\nascii_capitalize(\"THE LITTLE MERMAID\") ➞ \"THe LiTTLe meRmaiD\"\n\nascii_capitalize(\"Oh what a beautiful morning.\") ➞ \"oH wHaT a BeauTiFuL moRNiNg.\"\n",
      "metadata": {}
    },
    {
      "cell_type": "code",
      "source": "def ascii_capitalize(string):\n    result = \"\"\n    for char in string:\n        if ord(char) % 2 == 0:\n            result += char.upper()\n        else:\n            result += char.lower()\n    return result\n\n# Example usage:\nprint(ascii_capitalize(\"to be or not to be!\"))\n# Output: \"To Be oR NoT To Be!\"\n\nprint(ascii_capitalize(\"THE LITTLE MERMAID\"))\n# Output: \"THe LiTTLe meRmaiD\"\n\nprint(ascii_capitalize(\"Oh what a beautiful morning.\"))\n# Output: \"oH wHaT a BeauTiFuL moRNiNg.\"\n",
      "metadata": {},
      "execution_count": null,
      "outputs": []
    }
  ]
}