{
  "metadata": {
    "language_info": {
      "name": ""
    },
    "kernelspec": {
      "name": "python",
      "display_name": "Python (Pyodide)",
      "language": "python"
    }
  },
  "nbformat_minor": 4,
  "nbformat": 4,
  "cells": [
    {
      "cell_type": "markdown",
      "source": "1. Why are functions advantageous to have in your programs?\n",
      "metadata": {}
    },
    {
      "cell_type": "markdown",
      "source": "Functions are advantageous to have in programs for several reasons:\n\nCode Reusability: Functions allow you to define a block of reusable code that can be called multiple times from different parts of your program. This promotes code reusability, reduces code duplication, and makes your program more modular and maintainable.\n\nModularity and Organization: By breaking down your program into functions, you can divide complex tasks into smaller, more manageable units. This improves the organization and structure of your code, making it easier to understand, debug, and maintain. Functions also allow for better collaboration among team members by providing clear interfaces and encapsulating specific functionality.\n\nAbstraction and Encapsulation: Functions allow you to abstract away complex logic or implementation details behind a simple interface. This abstraction helps in reducing the cognitive load by providing high-level concepts and hiding the inner workings of the code. Additionally, functions encapsulate their local variables, preventing them from interfering with other parts of the program.\n\nCode Readability: Functions can improve the readability of your code by giving meaningful names to blocks of code that perform specific tasks. Well-named functions make the code self-explanatory, making it easier for other developers (including yourself) to understand and maintain the program.\n\nCode Modifiability: When you need to modify or fix a specific functionality, having functions makes it easier to locate and make changes to the relevant code. Functions isolate the logic, making it more focused and reducing the chances of unintended side effects.\n\nTesting and Debugging: Functions make it easier to write unit tests for specific blocks of code. By testing functions individually, you can ensure that each function performs its intended task correctly. Functions also aid in debugging as you can isolate and test specific parts of your program.",
      "metadata": {}
    },
    {
      "cell_type": "markdown",
      "source": "2. When does the code in a function run: when it's specified or when it's called?\n\n",
      "metadata": {}
    },
    {
      "cell_type": "markdown",
      "source": "The code inside a function runs when the function is called, not when it is specified or defined. Defining a function simply means creating a block of code with a specific name and set of instructions. The actual execution of that code occurs when the function is called.\n\nWhen you call a function in your program by using its name followed by parentheses (), the control flow transfers to the function's code block. The code inside the function is then executed sequentially, following the order in which the statements are written. Once the code inside the function has finished executing, the control flow returns to the point immediately after the function call.\n\n",
      "metadata": {}
    },
    {
      "cell_type": "markdown",
      "source": "3. What statement creates a function?\n",
      "metadata": {}
    },
    {
      "cell_type": "markdown",
      "source": "The def statement is used to create a function in Python. The def statement is followed by the function name, parentheses (), and a colon :. It marks the beginning of the function definition and indicates that you are defining a new function. Here's the syntax of the def statement:\n\ndef add_numbers(a, b):\n    sum_result = a + b\n    return sum_result\n",
      "metadata": {}
    },
    {
      "cell_type": "markdown",
      "source": "4. What is the difference between a function and a function call?\n",
      "metadata": {}
    },
    {
      "cell_type": "markdown",
      "source": "Function: A function is a block of reusable code that performs a specific task. It is defined using the def statement and consists of a function name, optional parameters, and a code block. Functions encapsulate a set of instructions that can be executed when the function is called. They allow you to modularize your code, promote code reusability, and improve code organization.\n\nFunction Call: A function call is an instruction that invokes or executes a specific function. It is the action of using a function by providing the necessary arguments (if any) and triggering the execution of the function's code block. When a function is called, the program flow transfers to the function, the statements inside the function are executed, and any specified return value is returned back to the caller. A function call is made by using the function name followed by parentheses ().\n\n# Function definition\ndef greet():\n    print(\"Hello, there!\")\n    print(\"Welcome to the program.\")\n\n# Function call\ngreet()\n",
      "metadata": {}
    },
    {
      "cell_type": "markdown",
      "source": "5. How many global scopes are there in a Python program? How many local scopes?\n",
      "metadata": {}
    },
    {
      "cell_type": "markdown",
      "source": "In a Python program, there is only one global scope, which represents the top-level scope of the program. The global scope exists throughout the entire program and is accessible from any part of the code.\n\nOn the other hand, local scopes are created whenever a function is called or when a block of code is executed. Local scopes are temporary and exist only within the specific function or block where they are defined. Each function or block creates its own local scope, which is independent of other local scopes.",
      "metadata": {}
    },
    {
      "cell_type": "markdown",
      "source": "6. What happens to variables in a local scope when the function call returns?\n",
      "metadata": {}
    },
    {
      "cell_type": "markdown",
      "source": "When a function call returns, the local scope associated with that function is destroyed, and any variables defined within that local scope cease to exist. This means that variables defined inside the function are no longer accessible outside the function once the function call completes.\n\ndef my_function():\n    x = 10  # Variable defined in the local scope of my_function\n    print(x)  # Output: 10\n\nmy_function()\nprint(x)  # NameError: name 'x' is not defined\n\nIn this example, the variable x is defined within the local scope of the my_function function. When the function is called using my_function(), the value of x is printed as 10 within the function. However, when the function call returns, the local scope of the function is destroyed, and the variable x is no longer accessible outside the function. Thus, attempting to print the value of x outside the function results in a NameError since the variable doesn't exist in the current scope.",
      "metadata": {}
    },
    {
      "cell_type": "markdown",
      "source": "7. What is the concept of a return value? Is it possible to have a return value in an expression?\n",
      "metadata": {}
    },
    {
      "cell_type": "markdown",
      "source": "The concept of a return value in programming refers to the value that a function can send back to the caller after it has finished executing. When a function is called, it may perform certain operations and produce a result that can be useful for further computation or decision-making. The return value allows the function to communicate this result back to the caller.\ndef add_numbers(a, b):\n    return a + b\n\nresult = add_numbers(3, 4)\nprint(result)  # Output: 7\n\nreturn statement can be used to provide a return value from a function, and it can be used within an expression to immediately return a value based on conditions or computations.",
      "metadata": {}
    },
    {
      "cell_type": "markdown",
      "source": "8. If a function does not have a return statement, what is the return value of a call to that function?\n",
      "metadata": {}
    },
    {
      "cell_type": "markdown",
      "source": "f a function does not have a return statement, or if the return statement is not executed during the function's execution, the function will implicitly return a special value called None. None is a built-in constant in Python that represents the absence of a value. It serves as a default return value for functions that do not explicitly specify a return value.\nIn this example, the greet function does not have a return statement. When the function is called using greet(), it executes the print statement, which displays \"Hello, there!\" on the console. However, since there is no explicit return value specified, the function implicitly returns None. Therefore, when the function call is assigned to the result variable and printed, it outputs None.\n\nIt's important to note that None is not the same as an empty string (\"\"), 0, or False. It is a distinct value that represents the absence of any specific value. If you explicitly want a function to return nothing or have no meaningful return value, you can omit the return statement or use the return statement without any value, which will also result in None being returned.",
      "metadata": {}
    },
    {
      "cell_type": "markdown",
      "source": "9. How do you make a function variable refer to the global variable?\n",
      "metadata": {}
    },
    {
      "cell_type": "markdown",
      "source": "To make a function variable refer to a global variable, you can use the global keyword within the function. The global keyword allows you to indicate that a variable inside a function is a global variable, rather than creating a new local variable with the same name.\nglobal_var = 10\n\ndef update_global():\n    global global_var\n    global_var += 5\n\nprint(global_var)  # Output: 10\nupdate_global()\nprint(global_var)  # Output: 15\n\nIn this example, there is a global variable global_var initialized with a value of 10. Inside the update_global function, the global keyword is used before the variable name to indicate that we want to refer to the global variable global_var. The function then increments the value of global_var by 5. When the function is called using update_global(), it modifies the global variable.\n\nAfter calling update_global(), when we print the value of global_var again, we see that it has been updated to 15. This is because by using the global keyword, we are referring to the same global variable inside the function and modifying its value.",
      "metadata": {}
    },
    {
      "cell_type": "markdown",
      "source": "10. What is the data type of None?\n",
      "metadata": {}
    },
    {
      "cell_type": "markdown",
      "source": "The data type of None in Python is NoneType. None is a special constant in Python that represents the absence of a value or a null value. It is often used to indicate the lack of a return value or to initialize a variable that may not have a value yet.\n\nprint(type(None))  # Output: <class 'NoneType'>\n",
      "metadata": {}
    },
    {
      "cell_type": "markdown",
      "source": "11. What does the sentence import areallyourpetsnamederic do?\n",
      "metadata": {}
    },
    {
      "cell_type": "markdown",
      "source": "The sentence \"import areallyourpetsnamederic\" is not a valid Python import statement since \"areallyourpetsnamederic\" is not a recognized Python module. In Python, the import statement is used to import modules or specific entities (functions, classes, variables) from modules into your Python program.",
      "metadata": {}
    },
    {
      "cell_type": "markdown",
      "source": "12. If you had a bacon() feature in a spam module, what would you call it after importing spam?\n",
      "metadata": {}
    },
    {
      "cell_type": "markdown",
      "source": "After importing the \"spam\" module, you can call the \"bacon()\" feature by using the module name followed by the function name using dot notation.\n\nimport spam\n\nspam.bacon()\n",
      "metadata": {}
    },
    {
      "cell_type": "markdown",
      "source": "13. What can you do to save a programme from crashing if it encounters an error?\n",
      "metadata": {}
    },
    {
      "cell_type": "markdown",
      "source": "To prevent a program from crashing when it encounters an error, you can use error handling techniques to catch and handle exceptions. In Python, exceptions are raised when an error or exceptional condition occurs during the execution of a program. By handling exceptions, you can gracefully recover from errors and prevent your program from abruptly terminating.\n\nThe key mechanism for handling exceptions in Python is the try-except block. The try block contains the code that you want to monitor for exceptions, and the except block specifies the actions to be taken when an exception occurs.\n\ntry:\n    # Code that may cause an exception\n    result = 10 / 0\n    print(\"Result:\", result)\nexcept ZeroDivisionError:\n    # Exception handling code\n    print(\"An error occurred: Division by zero\")\n",
      "metadata": {}
    },
    {
      "cell_type": "markdown",
      "source": "14. What is the purpose of the try clause? What is the purpose of the except clause?\n",
      "metadata": {}
    },
    {
      "cell_type": "markdown",
      "source": "The purpose of the try clause in Python is to enclose the code that may potentially raise an exception. It defines a block of code where you anticipate that an exception may occur. The try clause is used to \"try\" the code and monitor for exceptions. If an exception is raised within the try block, the execution of the try block is immediately halted, and the program flow is transferred to the appropriate except clause.\n\nThe purpose of the except clause is to define the actions to be taken when a specific exception occurs within the try block. It specifies the exception type(s) that it can handle and the corresponding code to execute. If an exception is raised in the try block and matches the exception type specified in the except clause, the code within the except block is executed.\n\ntry:\n    # Code that may cause an exception\n    # ...\nexcept ExceptionType:\n    # Exception handling code\n    # ...\n",
      "metadata": {}
    }
  ]
}