{
 "cells": [
  {
   "cell_type": "markdown",
   "id": "de28ba75",
   "metadata": {},
   "source": [
    "# 1.Write a Python Program to Add Two Matrices?\n"
   ]
  },
  {
   "cell_type": "code",
   "execution_count": 1,
   "id": "ef85c682",
   "metadata": {},
   "outputs": [
    {
     "name": "stdout",
     "output_type": "stream",
     "text": [
      "[[7, 7, 7], [7, 7, 7]]\n"
     ]
    }
   ],
   "source": [
    "def add_matrices(A, B):\n",
    "    # Make sure the matrices are the same size\n",
    "    if len(A) != len(B) or len(A[0]) != len(B[0]):\n",
    "        raise ValueError(\"Matrices are not the same size.\")\n",
    "    \n",
    "    # Create a new matrix to store the result\n",
    "    C = []\n",
    "    \n",
    "    # Add the corresponding elements of the matrices\n",
    "    for i in range(len(A)):\n",
    "        row = []\n",
    "        for j in range(len(A[0])):\n",
    "            row.append(A[i][j] + B[i][j])\n",
    "        C.append(row)\n",
    "    \n",
    "    # Return the result matrix\n",
    "    return C\n",
    "\n",
    "# Test the function\n",
    "A = [[1, 2, 3], [4, 5, 6]]\n",
    "B = [[6, 5, 4], [3, 2, 1]]\n",
    "print(add_matrices(A, B))  # Output: [[7, 7, 7], [7, 7, 7]]\n"
   ]
  },
  {
   "cell_type": "markdown",
   "id": "e1c5c0d9",
   "metadata": {},
   "source": [
    "# 2.Write a Python Program to Multiply Two Matrices? "
   ]
  },
  {
   "cell_type": "code",
   "execution_count": 2,
   "id": "ff2ded51",
   "metadata": {},
   "outputs": [
    {
     "name": "stdout",
     "output_type": "stream",
     "text": [
      "[[19, 22], [43, 50]]\n"
     ]
    }
   ],
   "source": [
    "def multiply_matrices(A, B):\n",
    "    # Make sure the matrices can be multiplied\n",
    "    if len(A[0]) != len(B):\n",
    "        raise ValueError(\"Matrices cannot be multiplied.\")\n",
    "    \n",
    "    # Create a new matrix to store the result\n",
    "    C = []\n",
    "    \n",
    "    # Multiply the matrices\n",
    "    for i in range(len(A)):\n",
    "        row = []\n",
    "        for j in range(len(B[0])):\n",
    "            element = 0\n",
    "            for k in range(len(A[0])):\n",
    "                element += A[i][k] * B[k][j]\n",
    "            row.append(element)\n",
    "        C.append(row)\n",
    "    \n",
    "    # Return the result matrix\n",
    "    return C\n",
    "\n",
    "# Test the function\n",
    "A = [[1, 2], [3, 4]]\n",
    "B = [[5, 6], [7, 8]]\n",
    "print(multiply_matrices(A, B))  # Output: [[19, 22], [43, 50]]\n"
   ]
  },
  {
   "cell_type": "markdown",
   "id": "a39d2aab",
   "metadata": {},
   "source": [
    "# 3.Write a Python Program to Transpose a Matrix? "
   ]
  },
  {
   "cell_type": "code",
   "execution_count": 3,
   "id": "416d712c",
   "metadata": {},
   "outputs": [
    {
     "name": "stdout",
     "output_type": "stream",
     "text": [
      "[[1, 4], [2, 5], [3, 6]]\n"
     ]
    }
   ],
   "source": [
    "def transpose(matrix):\n",
    "    # Create a new matrix to store the result\n",
    "    transposed = []\n",
    "    \n",
    "    # Transpose the matrix\n",
    "    for j in range(len(matrix[0])):\n",
    "        row = []\n",
    "        for i in range(len(matrix)):\n",
    "            row.append(matrix[i][j])\n",
    "        transposed.append(row)\n",
    "    \n",
    "    # Return the transposed matrix\n",
    "    return transposed\n",
    "\n",
    "# Test the function\n",
    "matrix = [[1, 2, 3], [4, 5, 6]]\n",
    "print(transpose(matrix))  # Output: [[1, 4], [2, 5], [3, 6]]\n"
   ]
  },
  {
   "cell_type": "markdown",
   "id": "6f46f7ef",
   "metadata": {},
   "source": [
    "# 4.Write a Python Program to Sort Words in Alphabetic Order? "
   ]
  },
  {
   "cell_type": "code",
   "execution_count": 4,
   "id": "6e83fa59",
   "metadata": {},
   "outputs": [
    {
     "name": "stdout",
     "output_type": "stream",
     "text": [
      "['apple', 'banana', 'cherry']\n"
     ]
    }
   ],
   "source": [
    "def sort_words(words):\n",
    "    # Sort the words in the list\n",
    "    words.sort()\n",
    "    \n",
    "    # Return the sorted list of words\n",
    "    return words\n",
    "\n",
    "# Test the function\n",
    "words = ['apple', 'banana', 'cherry']\n",
    "print(sort_words(words))  # Output: ['apple', 'banana', 'cherry']\n"
   ]
  },
  {
   "cell_type": "markdown",
   "id": "f431e5ae",
   "metadata": {},
   "source": [
    "# 5.Write a Python Program to Remove Punctuation From a String?"
   ]
  },
  {
   "cell_type": "code",
   "execution_count": 5,
   "id": "daac4e7e",
   "metadata": {},
   "outputs": [
    {
     "name": "stdout",
     "output_type": "stream",
     "text": [
      "Hello World\n"
     ]
    }
   ],
   "source": [
    "import string\n",
    "\n",
    "def remove_punctuation(s):\n",
    "    # Create a translation table to remove punctuation\n",
    "    translator = str.maketrans('', '', string.punctuation)\n",
    "    \n",
    "    # Use the translation table to remove punctuation from the string\n",
    "    s = s.translate(translator)\n",
    "    \n",
    "    # Return the resulting string\n",
    "    return s\n",
    "\n",
    "# Test the function\n",
    "s = \"Hello, World!\"\n",
    "print(remove_punctuation(s))  # Output: \"Hello World\""
   ]
  }
 ],
 "metadata": {
  "kernelspec": {
   "display_name": "Python 3 (ipykernel)",
   "language": "python",
   "name": "python3"
  },
  "language_info": {
   "codemirror_mode": {
    "name": "ipython",
    "version": 3
   },
   "file_extension": ".py",
   "mimetype": "text/x-python",
   "name": "python",
   "nbconvert_exporter": "python",
   "pygments_lexer": "ipython3",
   "version": "3.9.12"
  }
 },
 "nbformat": 4,
 "nbformat_minor": 5
}
