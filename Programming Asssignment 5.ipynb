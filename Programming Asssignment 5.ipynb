{
 "cells": [
  {
   "cell_type": "markdown",
   "id": "c437ed10",
   "metadata": {},
   "source": [
    "# 1.Write a Python Program to Find LCM?\n"
   ]
  },
  {
   "cell_type": "code",
   "execution_count": 1,
   "id": "28823385",
   "metadata": {},
   "outputs": [
    {
     "name": "stdout",
     "output_type": "stream",
     "text": [
      "12\n",
      "75\n",
      "35\n"
     ]
    }
   ],
   "source": [
    "def find_lcm(a, b):\n",
    "  if a > b:\n",
    "    greater = a\n",
    "  else:\n",
    "    greater = b\n",
    "  while True:\n",
    "    if greater % a == 0 and greater % b == 0:\n",
    "      lcm = greater\n",
    "      break\n",
    "    greater += 1\n",
    "  return lcm\n",
    "\n",
    "# Test the function with different numbers\n",
    "print(find_lcm(4, 6))  # 12\n",
    "print(find_lcm(15, 25)) # 75\n",
    "print(find_lcm(5, 7))   # 35\n"
   ]
  },
  {
   "cell_type": "markdown",
   "id": "e43dbc9e",
   "metadata": {},
   "source": [
    "# 2.Write a Python Program to Find HCF?\n"
   ]
  },
  {
   "cell_type": "code",
   "execution_count": 2,
   "id": "e36371b7",
   "metadata": {},
   "outputs": [
    {
     "name": "stdout",
     "output_type": "stream",
     "text": [
      "2\n",
      "5\n",
      "1\n"
     ]
    }
   ],
   "source": [
    "def find_hcf(a, b):\n",
    "  if a > b:\n",
    "    smaller = b\n",
    "  else:\n",
    "    smaller = a\n",
    "  for i in range(1, smaller + 1):\n",
    "    if a % i == 0 and b % i == 0:\n",
    "      hcf = i\n",
    "  return hcf\n",
    "\n",
    "# Test the function with different numbers\n",
    "print(find_hcf(4, 6))  # 2\n",
    "print(find_hcf(15, 25)) # 5\n",
    "print(find_hcf(5, 7))   # 1\n"
   ]
  },
  {
   "cell_type": "markdown",
   "id": "64e54d2e",
   "metadata": {},
   "source": [
    "# 3.Write a Python Program to Convert Decimal to Binary, Octal and Hexadecimal?\n"
   ]
  },
  {
   "cell_type": "code",
   "execution_count": 3,
   "id": "51b266ff",
   "metadata": {},
   "outputs": [
    {
     "name": "stdout",
     "output_type": "stream",
     "text": [
      "Binary: 0b1010\n",
      "Octal: 0o12\n",
      "Hexadecimal: 0xa\n",
      "Binary: 0b1100100\n",
      "Octal: 0o144\n",
      "Hexadecimal: 0x64\n",
      "Binary: 0b11111111\n",
      "Octal: 0o377\n",
      "Hexadecimal: 0xff\n"
     ]
    }
   ],
   "source": [
    "def convert(num):\n",
    "  # Convert to binary\n",
    "  binary = bin(num)\n",
    "  print(f\"Binary: {binary}\")\n",
    "\n",
    "  # Convert to octal\n",
    "  octal = oct(num)\n",
    "  print(f\"Octal: {octal}\")\n",
    "\n",
    "  # Convert to hexadecimal\n",
    "  hexadecimal = hex(num)\n",
    "  print(f\"Hexadecimal: {hexadecimal}\")\n",
    "\n",
    "# Test the function with different numbers\n",
    "convert(10)\n",
    "convert(100)\n",
    "convert(255)\n"
   ]
  },
  {
   "cell_type": "markdown",
   "id": "b4beb92f",
   "metadata": {},
   "source": [
    "# 4.Write a Python Program To Find ASCII value of a character?\n"
   ]
  },
  {
   "cell_type": "code",
   "execution_count": 4,
   "id": "40d6bb62",
   "metadata": {},
   "outputs": [
    {
     "name": "stdout",
     "output_type": "stream",
     "text": [
      "65\n",
      "97\n",
      "48\n",
      "33\n"
     ]
    }
   ],
   "source": [
    "def find_ascii(char):\n",
    "  return ord(char)\n",
    "\n",
    "# Test the function with different characters\n",
    "print(find_ascii('A')) # 65\n",
    "print(find_ascii('a')) # 97\n",
    "print(find_ascii('0')) # 48\n",
    "print(find_ascii('!')) # 33\n",
    "# define the function for the calculator\n"
   ]
  },
  {
   "cell_type": "markdown",
   "id": "86908904",
   "metadata": {},
   "source": [
    "# 5.Write a Python Program to Make a Simple Calculator with 4 basic mathematical operations?"
   ]
  },
  {
   "cell_type": "code",
   "execution_count": null,
   "id": "7bbe86bb",
   "metadata": {},
   "outputs": [],
   "source": [
    "# define the function for the calculator\n",
    "def calculator(num1, operator, num2):\n",
    "  if operator == \"+\":\n",
    "    return num1 + num2\n",
    "  elif operator == \"-\":\n",
    "    return num1 - num2\n",
    "  elif operator == \"*\":\n",
    "    return num1 * num2\n",
    "  elif operator == \"/\":\n",
    "    return num1 / num2\n",
    "\n",
    "# get input from the user\n",
    "num1 = float(input(\"Enter the first number: \"))\n",
    "operator = input(\"Enter an operator (+, -, *, /): \")\n",
    "num2 = float(input(\"Enter the second number: \"))\n",
    "\n",
    "# use the calculator function and print the result\n",
    "result = calculator(num1, operator, num2)\n",
    "print(result)"
   ]
  }
 ],
 "metadata": {
  "kernelspec": {
   "display_name": "Python 3 (ipykernel)",
   "language": "python",
   "name": "python3"
  },
  "language_info": {
   "codemirror_mode": {
    "name": "ipython",
    "version": 3
   },
   "file_extension": ".py",
   "mimetype": "text/x-python",
   "name": "python",
   "nbconvert_exporter": "python",
   "pygments_lexer": "ipython3",
   "version": "3.9.12"
  }
 },
 "nbformat": 4,
 "nbformat_minor": 5
}
