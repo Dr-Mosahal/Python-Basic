{
  "metadata": {
    "language_info": {
      "codemirror_mode": {
        "name": "python",
        "version": 3
      },
      "file_extension": ".py",
      "mimetype": "text/x-python",
      "name": "python",
      "nbconvert_exporter": "python",
      "pygments_lexer": "ipython3",
      "version": "3.8"
    },
    "kernelspec": {
      "name": "python",
      "display_name": "Python (Pyodide)",
      "language": "python"
    }
  },
  "nbformat_minor": 4,
  "nbformat": 4,
  "cells": [
    {
      "cell_type": "markdown",
      "source": "1.Create a function that takes a number as an argument and returns True or False depending on whether the number is symmetrical or not. A number is symmetrical when it is the same as its reverse.\nExamples\nis_symmetrical(7227) ➞ True\n\nis_symmetrical(12567) ➞ False\n\nis_symmetrical(44444444) ➞ True\n\nis_symmetrical(9939) ➞ False\n\nis_symmetrical(1112111) ➞ True\n\n",
      "metadata": {}
    },
    {
      "cell_type": "code",
      "source": "def is_symmetrical(number):\n    return str(number) == str(number)[::-1]\n\n# Example usage:\nprint(is_symmetrical(7227))\n# Output: True\n\nprint(is_symmetrical(12567))\n# Output: False\n\nprint(is_symmetrical(44444444))\n# Output: True\n\nprint(is_symmetrical(9939))\n# Output: False\n\nprint(is_symmetrical(1112111))\n# Output: True\n",
      "metadata": {},
      "execution_count": null,
      "outputs": []
    },
    {
      "cell_type": "markdown",
      "source": "2.Given a string of numbers separated by a comma and space, return the product of the numbers.\nExamples\nmultiply_nums(\"2, 3\") ➞ 6\n\nmultiply_nums(\"1, 2, 3, 4\") ➞ 24\n\nmultiply_nums(\"54, 75, 453, 0\") ➞ 0\n\nmultiply_nums(\"10, -2\") ➞ -20\n",
      "metadata": {}
    },
    {
      "cell_type": "code",
      "source": "def multiply_nums(numbers):\n    num_list = numbers.split(\", \")\n    product = 1\n    for num in num_list:\n        product *= int(num)\n    return product\n\n# Example usage:\nprint(multiply_nums(\"2, 3\"))\n# Output: 6\n\nprint(multiply_nums(\"1, 2, 3, 4\"))\n# Output: 24\n\nprint(multiply_nums(\"54, 75, 453, 0\"))\n# Output: 0\n\nprint(multiply_nums(\"10, -2\"))\n# Output: -20\n",
      "metadata": {},
      "execution_count": null,
      "outputs": []
    },
    {
      "cell_type": "markdown",
      "source": "3.Create a function that squares every digit of a number.\nExamples\nsquare_digits(9119) ➞ 811181\n\nsquare_digits(2483) ➞ 416649\n\nsquare_digits(3212) ➞ 9414\nNotes\nThe function receives an integer and must return an integer.\n\n",
      "metadata": {}
    },
    {
      "cell_type": "code",
      "source": "def square_digits(number):\n    result = \"\"\n    for digit in str(number):\n        squared_digit = int(digit) ** 2\n        result += str(squared_digit)\n    return int(result)\n\n# Example usage:\nprint(square_digits(9119))\n# Output: 811181\n\nprint(square_digits(2483))\n# Output: 416649\n\nprint(square_digits(3212))\n# Output: 9414\n",
      "metadata": {},
      "execution_count": null,
      "outputs": []
    },
    {
      "cell_type": "markdown",
      "source": "4.Create a function that sorts a list and removes all duplicate items from it.\nExamples\nsetify([1, 3, 3, 5, 5]) ➞ [1, 3, 5]\n\nsetify([4, 4, 4, 4]) ➞ [4]\n\nsetify([5, 7, 8, 9, 10, 15]) ➞ [5, 7, 8, 9, 10, 15]\n\nsetify([3, 3, 3, 2, 1]) ➞ [1, 2, 3]\n\n",
      "metadata": {}
    },
    {
      "cell_type": "code",
      "source": "def setify(lst):\n    return list(set(lst))\n\n# Example usage:\nprint(setify([1, 3, 3, 5, 5]))\n# Output: [1, 3, 5]\n\nprint(setify([4, 4, 4, 4]))\n# Output: [4]\n\nprint(setify([5, 7, 8, 9, 10, 15]))\n# Output: [5, 7, 8, 9, 10, 15]\n\nprint(setify([3, 3, 3, 2, 1]))\n# Output: [1, 2, 3]\n",
      "metadata": {},
      "execution_count": null,
      "outputs": []
    },
    {
      "cell_type": "markdown",
      "source": "5.Create a function that returns the mean of all digits.\nExamples\nmean(42) ➞ 3\n\nmean(12345) ➞ 3\n\nmean(666) ➞ 6\nNotes\nThe mean of all digits is the sum of digits / how many digits there are (e.g. mean of digits in 512 is (5+1+2)/3(number of digits) = 8/3=2).\nThe mean will always be an integer.\n",
      "metadata": {}
    },
    {
      "cell_type": "code",
      "source": "def mean(number):\n    digits = [int(digit) for digit in str(number)]\n    return sum(digits) // len(digits)\n\n# Example usage:\nprint(mean(42))\n# Output: 3\n\nprint(mean(12345))\n# Output: 3\n\nprint(mean(666))\n# Output: 6\n",
      "metadata": {},
      "execution_count": null,
      "outputs": []
    }
  ]
}