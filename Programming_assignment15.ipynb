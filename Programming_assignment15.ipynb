{
  "metadata": {
    "language_info": {
      "codemirror_mode": {
        "name": "python",
        "version": 3
      },
      "file_extension": ".py",
      "mimetype": "text/x-python",
      "name": "python",
      "nbconvert_exporter": "python",
      "pygments_lexer": "ipython3",
      "version": "3.8"
    },
    "kernelspec": {
      "name": "python",
      "display_name": "Python (Pyodide)",
      "language": "python"
    }
  },
  "nbformat_minor": 4,
  "nbformat": 4,
  "cells": [
    {
      "cell_type": "markdown",
      "source": "1.Please write a program using generator to print the numbers which can be divisible by 5 and 7 between 0 and n in comma separated form while n is input by console.\nExample:\nIf the following n is given as input to the program:\n100\nThen, the output of the program should be:\n0,35,70",
      "metadata": {}
    },
    {
      "cell_type": "code",
      "source": "import re\n\ndef check_password(password):\n    if len(password) < 6 or len(password) > 12:\n        return False\n    if not re.search(r\"[a-z]\", password):\n        return False\n    if not re.search(r\"[A-Z]\", password):\n        return False\n    if not re.search(r\"\\d\", password):\n        return False\n    if not re.search(r\"[$#@]\", password):\n        return False\n    return True\n\npasswords = input(\"Enter comma-separated passwords: \")\npassword_list = passwords.split(\",\")\nvalid_passwords = []\n\nfor password in password_list:\n    if check_password(password):\n        valid_passwords.append(password)\n\noutput = \",\".join(valid_passwords)\nprint(output)\n",
      "metadata": {},
      "execution_count": null,
      "outputs": []
    },
    {
      "cell_type": "markdown",
      "source": "2.Please write a program using generator to print the even numbers between 0 and n in comma separated form while n is input by console.\nExample:\nIf the following n is given as input to the program:\n10\nThen, the output of the program should be:\n0,2,4,6,8,10",
      "metadata": {}
    },
    {
      "cell_type": "code",
      "source": "def even_numbers(n):\n    for i in range(n + 1):\n        if i % 2 == 0:\n            yield i\n\nn = int(input(\"Enter a number: \"))\nnumbers = even_numbers(n)\noutput = \",\".join(str(num) for num in numbers)\nprint(output)\n",
      "metadata": {},
      "execution_count": null,
      "outputs": []
    },
    {
      "cell_type": "markdown",
      "source": "3.The Fibonacci Sequence is computed based on the following formula:\nf(n)=0 if n=0\nf(n)=1 if n=1\nf(n)=f(n-1)+f(n-2) if n>1\nPlease write a program using list comprehension to print the Fibonacci Sequence in comma separated form with a given n input by console.\nExample:\nIf the following n is given as input to the program:\n7\n\nThen, the output of the program should be:\n0,1,1,2,3,5,8,13",
      "metadata": {}
    },
    {
      "cell_type": "code",
      "source": "n = int(input(\"Enter a number: \"))\n\nfib_sequence = [0, 1] + [fib_sequence[i - 1] + fib_sequence[i - 2] for i in range(2, n+1)]\noutput = \",\".join(str(num) for num in fib_sequence[:n+1])\nprint(output)\n",
      "metadata": {},
      "execution_count": null,
      "outputs": []
    },
    {
      "cell_type": "markdown",
      "source": "4.Assuming that we have some email addresses in the \"username@companyname.com\" format, please write program to print the user name of a given email address. Both user names and company names are composed of letters only.\nExample:\nIf the following email address is given as input to the program:\njohn@google.com\nThen, the output of the program should be:\njohn",
      "metadata": {}
    },
    {
      "cell_type": "code",
      "source": "email = input(\"Enter an email address: \")\n\nusername = email.split('@')[0]\nprint(username)\n",
      "metadata": {},
      "execution_count": null,
      "outputs": []
    },
    {
      "cell_type": "markdown",
      "source": "5.Define a class named Shape and its subclass Square. The Square class has an init function which takes a length as argument. Both classes have a area function which can print the area of the shape where Shape's area is 0 by default.",
      "metadata": {}
    },
    {
      "cell_type": "code",
      "source": "class Shape:\n    def __init__(self):\n        pass\n    \n    def area(self):\n        return 0\n\n\nclass Square(Shape):\n    def __init__(self, length):\n        self.length = length\n    \n    def area(self):\n        return self.length ** 2\n",
      "metadata": {},
      "execution_count": null,
      "outputs": []
    }
  ]
}