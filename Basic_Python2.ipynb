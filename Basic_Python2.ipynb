{
  "metadata": {
    "language_info": {
      "name": ""
    },
    "kernelspec": {
      "name": "python",
      "display_name": "Python (Pyodide)",
      "language": "python"
    }
  },
  "nbformat_minor": 4,
  "nbformat": 4,
  "cells": [
    {
      "cell_type": "markdown",
      "source": "1.What are the two values of the Boolean data type? How do you write them?\n",
      "metadata": {}
    },
    {
      "cell_type": "markdown",
      "source": "The Boolean data type represents a logical value that can have one of two possible states: true or false. These two values are the only valid values for the Boolean data type.\ntrue value: True\nfalse value: False",
      "metadata": {}
    },
    {
      "cell_type": "markdown",
      "source": "2. What are the three different types of Boolean operators?\n",
      "metadata": {}
    },
    {
      "cell_type": "markdown",
      "source": "The three different types of Boolean operators are:\n\nLogical AND (&&): The logical AND operator returns true if both operands are true; otherwise, it returns false. It evaluates to true only if both conditions or expressions on either side of the operator are true. For example, in the expression A && B, both A and B must be true for the overall expression to be true.\n\nLogical OR (||): The logical OR operator returns true if at least one of the operands is true; otherwise, it returns false. It evaluates to true if either of the conditions or expressions on either side of the operator is true. For example, in the expression A || B, if either A or B is true, the overall expression will be true.\n\nLogical NOT (!): The logical NOT operator reverses the logical state of its operand. It returns true if the operand is false, and false if the operand is true. It is a unary operator, meaning it operates on a single operand. For example, !A will be true if A is false, and false if A is true.\n\nThese Boolean operators are used to combine Boolean values or expressions and perform logical operations in programming. They are crucial for creating conditional statements, making logical decisions, and controlling the flow of a program based on truth values.\n\n\n\n\n\n\n",
      "metadata": {}
    },
    {
      "cell_type": "markdown",
      "source": "3. Make a list of each Boolean operator's truth tables (i.e. every possible combination of Boolean values for the operator and what it evaluate ).\n",
      "metadata": {}
    },
    {
      "cell_type": "markdown",
      "source": "Logical AND (&&):\nOperand 1\tOperand 2\tResult\ntrue\ttrue\ttrue\ntrue\tfalse\tfalse\nfalse\ttrue\tfalse\nfalse\tfalse\tfalse\nThe logical AND operator evaluates to true only if both operands are true. Otherwise, it evaluates to false.\n\nLogical OR (||):\nOperand 1\tOperand 2\tResult\ntrue\ttrue\ttrue\ntrue\tfalse\ttrue\nfalse\ttrue\ttrue\nfalse\tfalse\tfalse\nThe logical OR operator evaluates to true if at least one of the operands is true. It evaluates to false only when both operands are false.\n\nLogical NOT (!):\nOperand\tResult\ntrue\tfalse\nfalse\ttrue\nThe logical NOT operator reverses the logical state of its operand. It returns false if the operand is true and true if the operand is false.\n\nThese truth tables provide a summary of all possible combinations of Boolean values for each operator and the resulting evaluation. They are helpful for understanding how the operators behave and how they can be used to make logical decisions in programming.",
      "metadata": {}
    },
    {
      "cell_type": "markdown",
      "source": "4. What are the values of the following expressions?\n(5 > 4) and (3 == 5)\nnot (5 > 4)\n(5 > 4) or (3 == 5)\nnot ((5 > 4) or (3 == 5))\n(True and True) and (True == False)\n(not False) or (not True)\n",
      "metadata": {}
    },
    {
      "cell_type": "markdown",
      "source": "(5 > 4) and (3 == 5)\n\nThe expression (5 > 4) evaluates to True because 5 is greater than 4.\nThe expression (3 == 5) evaluates to False because 3 is not equal to 5.\nThe and operator returns False if any of the operands is False.\nTherefore, the overall expression evaluates to False.\nnot (5 > 4)\n\nThe expression (5 > 4) evaluates to True because 5 is greater than 4.\nThe not operator reverses the logical state of the operand.\nSince the operand is True, not True evaluates to False.\n(5 > 4) or (3 == 5)\n\nThe expression (5 > 4) evaluates to True because 5 is greater than 4.\nThe expression (3 == 5) evaluates to False because 3 is not equal to 5.\nThe or operator returns True if any of the operands is True.\nTherefore, the overall expression evaluates to True.\nnot ((5 > 4) or (3 == 5))\n\nThe expression (5 > 4) or (3 == 5) evaluates to True because one of the operands (5 > 4) is True.\nThe not operator reverses the logical state of the operand.\nSince the operand is True, not True evaluates to False.\n(True and True) and (True == False)\n\nThe expression (True and True) evaluates to True because both operands are True.\nThe expression (True == False) evaluates to False because True is not equal to False.\nThe and operator returns True if both operands are True.\nTherefore, the overall expression evaluates to False.\n(not False) or (not True)\n\nThe expression not False evaluates to True because the operand is False and not False reverses it to True.\nThe expression not True evaluates to False because the operand is True and not True reverses it to False.\nThe or operator returns True if any of the operands is True.\nTherefore, the overall expression evaluates to True.\nThese evaluations demonstrate the results of the given expressions based on the logical operations and Boolean values involved.",
      "metadata": {}
    },
    {
      "cell_type": "markdown",
      "source": "5. What are the six comparison operators?\n",
      "metadata": {}
    },
    {
      "cell_type": "markdown",
      "source": "The six comparison operators used for making comparisons between values in programming are:\n\nEqual to (==): The equal to operator compares two values and returns True if they are equal, and False otherwise. For example, 5 == 5 evaluates to True, while 5 == 10 evaluates to False.\n\nNot equal to (!=): The not equal to operator compares two values and returns True if they are not equal, and False if they are equal. For example, 5 != 10 evaluates to True, while 5 != 5 evaluates to False.\n\nGreater than (>): The greater than operator compares two values and returns True if the left operand is greater than the right operand, and False otherwise. For example, 10 > 5 evaluates to True, while 5 > 10 evaluates to False.\n\nLess than (<): The less than operator compares two values and returns True if the left operand is less than the right operand, and False otherwise. For example, 5 < 10 evaluates to True, while 10 < 5 evaluates to False.\n\nGreater than or equal to (>=): The greater than or equal to operator compares two values and returns True if the left operand is greater than or equal to the right operand, and False otherwise. For example, 10 >= 5 evaluates to True, while 5 >= 10 evaluates to False.\n\nLess than or equal to (<=): The less than or equal to operator compares two values and returns True if the left operand is less than or equal to the right operand, and False otherwise. For example, 5 <= 10 evaluates to True, while 10 <= 5 evaluates to False.\n\nThese comparison operators are used to compare values and determine the relationship between them. They are often used in conditional statements, loops, and other decision-making constructs in programming.",
      "metadata": {}
    },
    {
      "cell_type": "markdown",
      "source": "6. How do you tell the difference between the equal to and assignment operators?Describe a condition and when you would use one.\n",
      "metadata": {}
    },
    {
      "cell_type": "markdown",
      "source": "To differentiate between the equal to (==) operator and the assignment (=) operator, consider the following:\n\nEqual to operator (==): The equal to operator is used to compare two values and checks if they are equal. It returns True if the values are equal and False if they are not equal. The equal to operator is used in conditional statements, such as if-else statements or while loops, to determine the execution path based on a condition.\n\nAssignment operator (=): The assignment operator is used to assign a value to a variable. It takes the value on the right side of the operator and assigns it to the variable on the left side. The assignment operator does not compare values; it simply assigns a value to a variable.\n\nx = 10  # Assignment operator assigns the value 10 to the variable x\nif x == 10:  # Equal to operator compares the value of x with 10\n    print(\"x is equal to 10\")\nIn this example, the assignment operator (=) is used to assign the value 10 to the variable x. Then, the equal to operator (==) is used in the if statement to check if the value of x is equal to 10. If the condition evaluates to true, it will print \"x is equal to 10\".",
      "metadata": {}
    },
    {
      "cell_type": "markdown",
      "source": "7. Identify the three blocks in this code:\nspam = 0\nif spam == 10:\nprint('eggs')\nif spam > 5:\nprint('bacon')\nelse:\nprint('ham')\nprint('spam')\nprint('spam')\n",
      "metadata": {}
    },
    {
      "cell_type": "markdown",
      "source": "if spam == 10:\n    print('eggs')\nThis block contains the if statement that checks if the value of the variable spam is equal to 10. If the condition is true, it executes the indented code print('eggs'). However, since the code does not have an indentation, it would result in an IndentationError. To correct it, the print('eggs') statement should be indented.\n\nif spam > 5:\n    print('bacon')\nelse:\n    print('ham')\n\nThis block contains an if-else statement. It checks if the value of the variable spam is greater than 5. If the condition is true, it executes the indented code print('bacon'). If the condition is false, it executes the indented code print('ham'). Both print statements are indented under their respective conditions.\n\nprint('spam')\nprint('spam')\n\nThis block consists of two consecutive print statements. These statements are not indented and are executed unconditionally. They will be executed regardless of the conditions in the previous if and if-else statements.\n",
      "metadata": {}
    },
    {
      "cell_type": "markdown",
      "source": "8. Write code that prints Hello if 1 is stored in spam, prints Howdy if 2 is stored in spam, and prints Greetings! if anything else is stored in spam.\n\n\n",
      "metadata": {}
    },
    {
      "cell_type": "code",
      "source": "spam =  # Assign a value to the variable spam\n\nif spam == 1:\n    print('Hello')\nelif spam == 2:\n    print('Howdy')\nelse:\n    print('Greetings!')\n",
      "metadata": {},
      "execution_count": null,
      "outputs": []
    },
    {
      "cell_type": "markdown",
      "source": "9.If your programme is stuck in an endless loop, what keys you’ll press?\n\n",
      "metadata": {}
    },
    {
      "cell_type": "markdown",
      "source": "Ctrl + C: This key combination is commonly used to send an interrupt signal to the running program. Pressing Ctrl + C will terminate the program and return you to the command prompt or stop the execution in an integrated development environment (IDE).\n\nCtrl + Break: On some systems, such as Windows, you can use Ctrl + Break to interrupt the execution of a program.\n\nCtrl + D: This key combination is used to send an end-of-file (EOF) signal to the program's input stream. It may terminate the program depending on how it handles EOF.",
      "metadata": {}
    },
    {
      "cell_type": "markdown",
      "source": "10. How can you tell the difference between break and continue?\n",
      "metadata": {}
    },
    {
      "cell_type": "markdown",
      "source": "In programming, the break and continue statements are used to alter the flow of control within loops (such as for or while loops). Here's how you can differentiate between them:\n\nbreak statement:\n\nThe break statement is used to exit or terminate the loop entirely.\nWhen encountered, the break statement immediately terminates the innermost loop it is present in, regardless of the loop condition.\nThe program execution continues with the next statement after the loop.\nbreak is typically used to prematurely exit a loop when a certain condition is met.\nIt helps in preventing unnecessary iterations once a specific condition is satisfied.\ncontinue statement:\n\nThe continue statement is used to skip the current iteration of the loop and move to the next iteration.\nWhen encountered, the continue statement bypasses the remaining code within the loop for the current iteration and jumps to the next iteration.\nThe loop condition is re-evaluated, and the next iteration begins.\ncontinue is often used when you want to skip certain iterations based on a particular condition without exiting the loop entirely.\nIt allows you to skip certain code execution within the loop and continue with the next iteration.",
      "metadata": {}
    },
    {
      "cell_type": "markdown",
      "source": "11. In a for loop, what is the difference between range(10), range(0, 10), and range(0, 10, 1)?\n",
      "metadata": {}
    },
    {
      "cell_type": "markdown",
      "source": "range(10): This expression generates a sequence of numbers starting from 0 (default) up to, but not including, the specified number (10 in this case). It increments by 1 (default) in each iteration. So, it produces the numbers 0, 1, 2, 3, 4, 5, 6, 7, 8, and 9. The start parameter is omitted, and the step parameter is 1 by default.\n\nrange(0, 10): This expression generates a sequence of numbers starting from the specified start value (0 in this case) up to, but not including, the specified end value (10 in this case). It increments by 1 (default) in each iteration. So, it produces the same numbers as range(10)—0, 1, 2, 3, 4, 5, 6, 7, 8, and 9. Both the start and step parameters are explicitly provided, with the step parameter being 1 by default.\n\nrange(0, 10, 1): This expression is identical to range(0, 10). It generates a sequence of numbers starting from the specified start value (0 in this case) up to, but not including, the specified end value (10 in this case). It increments by the specified step value (1 in this case) in each iteration. As the step parameter is explicitly set to 1, it behaves the same as the previous examples and produces the numbers 0, 1, 2, 3, 4, 5, 6, 7, 8, and 9.",
      "metadata": {}
    },
    {
      "cell_type": "markdown",
      "source": "12. Write a short program that prints the numbers 1 to 10 using a for loop. Then write an equivalent program that prints the numbers 1 to 10 using a while loop.\n",
      "metadata": {}
    },
    {
      "cell_type": "code",
      "source": "# Using a for loop\nfor num in range(1, 11):\n    print(num)\n\n# Using a while loop\nnum = 1\nwhile num <= 10:\n    print(num)\n    num += 1\n",
      "metadata": {},
      "execution_count": null,
      "outputs": []
    },
    {
      "cell_type": "markdown",
      "source": "13. If you had a function named bacon() inside a module named spam, how would you call it after importing spam?\n",
      "metadata": {}
    },
    {
      "cell_type": "markdown",
      "source": "import spam\n\nspam.bacon()\n",
      "metadata": {}
    }
  ]
}