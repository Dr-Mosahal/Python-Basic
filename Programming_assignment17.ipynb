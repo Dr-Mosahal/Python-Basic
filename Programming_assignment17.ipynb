{
  "metadata": {
    "language_info": {
      "codemirror_mode": {
        "name": "python",
        "version": 3
      },
      "file_extension": ".py",
      "mimetype": "text/x-python",
      "name": "python",
      "nbconvert_exporter": "python",
      "pygments_lexer": "ipython3",
      "version": "3.8"
    },
    "kernelspec": {
      "name": "python",
      "display_name": "Python (Pyodide)",
      "language": "python"
    }
  },
  "nbformat_minor": 4,
  "nbformat": 4,
  "cells": [
    {
      "cell_type": "markdown",
      "source": "1.Question1. Create a function that takes three arguments a, b, c and returns the sum of the numbers that are evenly divided by c from the range a, b inclusive.\nExamples\nevenly_divisible(1, 10, 20) ➞ 0\n# No number between 1 and 10 can be evenly divided by 20.\n\nevenly_divisible(1, 10, 2) ➞ 30\n# 2 + 4 + 6 + 8 + 10 = 30\n\nevenly_divisible(1, 10, 3) ➞ 18\n# 3 + 6 + 9 = 18\n\n",
      "metadata": {}
    },
    {
      "cell_type": "code",
      "source": "def evenly_divisible(start, end, divisor):\n    total = 0\n    for num in range(start, end+1):\n        if num % divisor == 0:\n            total += num\n    return total\n",
      "metadata": {},
      "execution_count": null,
      "outputs": []
    },
    {
      "cell_type": "markdown",
      "source": "2.Create a function that returns True if a given inequality expression is correct and False otherwise.\nExamples\ncorrect_signs(\"3 < 7 < 11\") ➞ True\n\ncorrect_signs(\"13 > 44 > 33 > 1\") ➞ False\n\ncorrect_signs(\"1 < 2 < 6 < 9 > 3\") ➞ True\n\n",
      "metadata": {}
    },
    {
      "cell_type": "code",
      "source": "def correct_signs(expression):\n    return eval(expression)\n",
      "metadata": {},
      "execution_count": null,
      "outputs": []
    },
    {
      "cell_type": "markdown",
      "source": "3.Create a function that replaces all the vowels in a string with a specified character.\nExamples\nreplace_vowels(\"the aardvark\", \"#\") ➞ \"th# ##rdv#rk\"\n\nreplace_vowels(\"minnie mouse\", \"?\") ➞ \"m?nn?? m??s?\"\n\nreplace_vowels(\"shakespeare\", \"*\") ➞ \"sh*k*sp**r*\"\n\n",
      "metadata": {}
    },
    {
      "cell_type": "code",
      "source": "def replace_vowels(string, replacement):\n    vowels = 'aeiouAEIOU'\n    for vowel in vowels:\n        string = string.replace(vowel, replacement)\n    return string\n",
      "metadata": {},
      "execution_count": null,
      "outputs": []
    },
    {
      "cell_type": "markdown",
      "source": "4.Write a function that calculates the factorial of a number recursively.\nExamples\nfactorial(5) ➞ 120\n\nfactorial(3) ➞ 6\n\nfactorial(1) ➞ 1\n\nfactorial(0) ➞ 1\n\n",
      "metadata": {}
    },
    {
      "cell_type": "code",
      "source": "def factorial(n):\n    if n == 0 or n == 1:\n        return 1\n    else:\n        return n * factorial(n - 1)\n",
      "metadata": {},
      "execution_count": null,
      "outputs": []
    },
    {
      "cell_type": "markdown",
      "source": "5.Hamming distance is the number of characters that differ between two strings.\nTo illustrate:\nString1: \"abcbba\"\nString2: \"abcbda\"\n\nHamming Distance: 1 - \"b\" vs. \"d\" is the only difference.\nCreate a function that computes the hamming distance between two strings.\nExamples\nhamming_distance(\"abcde\", \"bcdef\") ➞ 5\n\nhamming_distance(\"abcde\", \"abcde\") ➞ 0\n\nhamming_distance(\"strong\", \"strung\") ➞ 1\n\n\n",
      "metadata": {}
    },
    {
      "cell_type": "code",
      "source": "def hamming_distance(string1, string2):\n    distance = 0\n    for i in range(len(string1)):\n        if string1[i] != string2[i]:\n            distance += 1\n    return distance\n",
      "metadata": {},
      "execution_count": null,
      "outputs": []
    }
  ]
}