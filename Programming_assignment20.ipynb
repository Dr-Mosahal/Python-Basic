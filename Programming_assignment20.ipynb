{
  "metadata": {
    "language_info": {
      "codemirror_mode": {
        "name": "python",
        "version": 3
      },
      "file_extension": ".py",
      "mimetype": "text/x-python",
      "name": "python",
      "nbconvert_exporter": "python",
      "pygments_lexer": "ipython3",
      "version": "3.8"
    },
    "kernelspec": {
      "name": "python",
      "display_name": "Python (Pyodide)",
      "language": "python"
    }
  },
  "nbformat_minor": 4,
  "nbformat": 4,
  "cells": [
    {
      "cell_type": "markdown",
      "source": "1.Create a function that takes a list of strings and integers, and filters out the list so that it returns a list of integers only.\nExamples\nfilter_list([1, 2, 3, \"a\", \"b\", 4]) ➞ [1, 2, 3, 4]\n\nfilter_list([\"A\", 0, \"Edabit\", 1729, \"Python\", \"1729\"]) ➞ [0, 1729]\n\nfilter_list([\"Nothing\", \"here\"]) ➞ []\n\n",
      "metadata": {}
    },
    {
      "cell_type": "code",
      "source": "def filter_list(lst):\n    return [x for x in lst if isinstance(x, int)]\n",
      "metadata": {},
      "execution_count": null,
      "outputs": []
    },
    {
      "cell_type": "markdown",
      "source": "2.Given a list of numbers, create a function which returns the list but with each element's index in the list added to itself. This means you add 0 to the number at index 0, add 1 to the number at index 1, etc...\nExamples\nadd_indexes([0, 0, 0, 0, 0]) ➞ [0, 1, 2, 3, 4]\n\nadd_indexes([1, 2, 3, 4, 5]) ➞ [1, 3, 5, 7, 9]\n\nadd_indexes([5, 4, 3, 2, 1]) ➞ [5, 5, 5, 5, 5]\n",
      "metadata": {}
    },
    {
      "cell_type": "code",
      "source": "def add_indexes(lst):\n    return [num + index for index, num in enumerate(lst)]\n",
      "metadata": {},
      "execution_count": null,
      "outputs": []
    },
    {
      "cell_type": "markdown",
      "source": "3.Create a function that takes the height and radius of a cone as arguments and returns the volume of the cone rounded to the nearest hundredth. See the resources tab for the formula.\n\nExamples\ncone_volume(3, 2) ➞ 12.57\n\ncone_volume(15, 6) ➞ 565.49\n\ncone_volume(18, 0) ➞ 0\n",
      "metadata": {}
    },
    {
      "cell_type": "code",
      "source": "import math\n\ndef cone_volume(h, r):\n    volume = (1/3) * math.pi * r**2 * h\n    return round(volume, 2)\n",
      "metadata": {},
      "execution_count": null,
      "outputs": []
    },
    {
      "cell_type": "markdown",
      "source": "4.This Triangular Number Sequence is generated from a pattern of dots that form a triangle. The first 5 numbers of the sequence, or dots, are: \n1, 3, 6, 10, 15\nThis means that the first triangle has just one dot, the second one has three dots, the third one has 6 dots and so on.\nWrite a function that gives the number of dots with its corresponding triangle number of the sequence.\nExamples\ntriangle(1) ➞ 1\n\ntriangle(6) ➞ 21\n\ntriangle(215) ➞ 23220\n",
      "metadata": {}
    },
    {
      "cell_type": "code",
      "source": "def triangle(n):\n    dots = (n * (n + 1)) // 2\n    return dots\n",
      "metadata": {},
      "execution_count": null,
      "outputs": []
    },
    {
      "cell_type": "markdown",
      "source": "5.Create a function that takes a list of numbers between 1 and 10 (excluding one number) and returns the missing number.\nExamples\nmissing_num([1, 2, 3, 4, 6, 7, 8, 9, 10]) ➞ 5\n\nmissing_num([7, 2, 3, 6, 5, 9, 1, 4, 8]) ➞ 10\n\nmissing_num([10, 5, 1, 2, 4, 6, 8, 3, 9]) ➞ 7\n\n\n",
      "metadata": {}
    },
    {
      "cell_type": "code",
      "source": "def missing_num(nums):\n    n = len(nums) + 1  # Total numbers in the range 1 to 10\n    total_sum = (n * (n + 1)) // 2  # Sum of all numbers in the range 1 to 10\n    missing = total_sum - sum(nums)  # Subtract the sum of given numbers from the total sum\n    return missing\n",
      "metadata": {},
      "execution_count": null,
      "outputs": []
    }
  ]
}