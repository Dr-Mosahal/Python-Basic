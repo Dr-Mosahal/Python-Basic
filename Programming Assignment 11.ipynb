{
 "cells": [
  {
   "cell_type": "markdown",
   "id": "a0702564",
   "metadata": {},
   "source": [
    "# 1.Write a Python program to find words which are greater than given length k? \n"
   ]
  },
  {
   "cell_type": "code",
   "execution_count": 1,
   "id": "58af51bc",
   "metadata": {},
   "outputs": [],
   "source": [
    "def find_words_greater_than_k(words, k):\n",
    "  # Initialize an empty list to store the words that are greater than k\n",
    "  long_words = []\n",
    "\n",
    "  # Iterate through each word in the list of words\n",
    "  for word in words:\n",
    "    # If the length of the word is greater than k, append it to the list\n",
    "    if len(word) > k:\n",
    "      long_words.append(word)\n",
    "\n",
    "  # Return the list of long words\n",
    "  return long_words\n",
    "\n"
   ]
  },
  {
   "cell_type": "markdown",
   "id": "e2510221",
   "metadata": {},
   "source": [
    "# 2.Write a Python program for removing i-th character from a string? \n"
   ]
  },
  {
   "cell_type": "code",
   "execution_count": 2,
   "id": "fa355180",
   "metadata": {},
   "outputs": [
    {
     "name": "stdout",
     "output_type": "stream",
     "text": [
      "['defenestrate']\n",
      "Hello World!\n"
     ]
    }
   ],
   "source": [
    "# Test the function with a list of words and a value of k\n",
    "words = ['cat', 'window', 'defenestrate']\n",
    "k = 6\n",
    "print(find_words_greater_than_k(words, k))\n",
    "def remove_char_at_index(string, index):\n",
    "  # Use slicing to create a new string without the i-th character\n",
    "  new_string = string[:index] + string[index+1:]\n",
    "  return new_string\n",
    "\n",
    "# Test the function with a sample string and index\n",
    "string = \"Hello, World!\"\n",
    "index = 5\n",
    "print(remove_char_at_index(string, index))\n"
   ]
  },
  {
   "cell_type": "markdown",
   "id": "4199c1e6",
   "metadata": {},
   "source": [
    "# 3.Write a Python program to split and join a string? \n"
   ]
  },
  {
   "cell_type": "code",
   "execution_count": 3,
   "id": "d79c67bd",
   "metadata": {},
   "outputs": [
    {
     "name": "stdout",
     "output_type": "stream",
     "text": [
      "Hello,-World!\n"
     ]
    }
   ],
   "source": [
    "def split_and_join(string):\n",
    "  # Split the string into a list of words using the split() function\n",
    "  words = string.split()\n",
    "  \n",
    "  # Use the join() function to join the words back together with a '-' character\n",
    "  joined_string = '-'.join(words)\n",
    "  return joined_string\n",
    "\n",
    "# Test the function with a sample string\n",
    "string = \"Hello, World!\"\n",
    "print(split_and_join(string))\n"
   ]
  },
  {
   "cell_type": "markdown",
   "id": "43f4f872",
   "metadata": {},
   "source": [
    "# 4.Write a Python to check if a given string is binary string or not? \n"
   ]
  },
  {
   "cell_type": "code",
   "execution_count": 4,
   "id": "69a2f395",
   "metadata": {},
   "outputs": [
    {
     "name": "stdout",
     "output_type": "stream",
     "text": [
      "True\n",
      "False\n",
      "True\n",
      "True\n",
      "False\n"
     ]
    }
   ],
   "source": [
    "def is_binary_string(string):\n",
    "  # Iterate through each character in the string\n",
    "  for char in string:\n",
    "    # If the character is not a 0 or a 1, return False\n",
    "    if char != '0' and char != '1':\n",
    "      return False\n",
    "  # If all characters are 0 or 1, return True\n",
    "  return True\n",
    "\n",
    "# Test the function with some sample strings\n",
    "print(is_binary_string('1010101')) # True\n",
    "print(is_binary_string('10101010101a')) # False\n",
    "print(is_binary_string('11111111')) # True\n",
    "print(is_binary_string('010101010101')) # True\n",
    "print(is_binary_string('0101010101010101a')) # False\n"
   ]
  },
  {
   "cell_type": "markdown",
   "id": "e4bce6a7",
   "metadata": {},
   "source": [
    "# 5.Write a Python program to find uncommon words from two Strings? \n"
   ]
  },
  {
   "cell_type": "code",
   "execution_count": 5,
   "id": "202cb5e8",
   "metadata": {},
   "outputs": [
    {
     "name": "stdout",
     "output_type": "stream",
     "text": [
      "{'over', 'the', 'very', 'is', 'fox', 'jumps', 'lazy', 'quick', 'dog', 'lazy.', 'dog.'}\n"
     ]
    }
   ],
   "source": [
    "def find_uncommon_words(string1, string2):\n",
    "  # Split the strings into lists of words\n",
    "  words1 = string1.split()\n",
    "  words2 = string2.split()\n",
    "\n",
    "  # Initialize an empty set to store the uncommon words\n",
    "  uncommon_words = set()\n",
    "\n",
    "  # Iterate through the words in the first list\n",
    "  for word in words1:\n",
    "    # If the word is not in the second list, add it to the set of uncommon words\n",
    "    if word not in words2:\n",
    "      uncommon_words.add(word)\n",
    "\n",
    "  # Iterate through the words in the second list\n",
    "  for word in words2:\n",
    "    # If the word is not in the first list, add it to the set of uncommon words\n",
    "    if word not in words1:\n",
    "      uncommon_words.add(word)\n",
    "\n",
    "  # Return the set of uncommon words\n",
    "  return uncommon_words\n",
    "\n",
    "# Test the function with some sample strings\n",
    "string1 = \"The quick brown fox jumps over the lazy dog.\"\n",
    "string2 = \"The brown dog is very lazy.\"\n",
    "print(find_uncommon_words(string1, string2))\n"
   ]
  },
  {
   "cell_type": "markdown",
   "id": "095d2345",
   "metadata": {},
   "source": [
    "# 6.Write a Python to find all duplicate characters in string? \n"
   ]
  },
  {
   "cell_type": "code",
   "execution_count": 6,
   "id": "74e7a0b5",
   "metadata": {},
   "outputs": [],
   "source": [
    "def find_duplicates(s):\n",
    "  counts = {}\n",
    "  for c in s:\n",
    "    if c in counts:\n",
    "      counts[c] += 1\n",
    "    else:\n",
    "      counts[c] = 1\n",
    "  for c, count in counts.items():\n",
    "    if count > 1:\n",
    "      print(f'{c} appears {count} times')\n"
   ]
  },
  {
   "cell_type": "markdown",
   "id": "913a7a61",
   "metadata": {},
   "source": [
    "# 7.Write a Python Program to check if a string contains any special character?"
   ]
  },
  {
   "cell_type": "code",
   "execution_count": 7,
   "id": "ca1f4f8f",
   "metadata": {},
   "outputs": [],
   "source": [
    "import re\n",
    "\n",
    "def contains_special_characters(s):\n",
    "  return bool(re.search(r'[^A-Za-z0-9]', s))"
   ]
  }
 ],
 "metadata": {
  "kernelspec": {
   "display_name": "Python 3 (ipykernel)",
   "language": "python",
   "name": "python3"
  },
  "language_info": {
   "codemirror_mode": {
    "name": "ipython",
    "version": 3
   },
   "file_extension": ".py",
   "mimetype": "text/x-python",
   "name": "python",
   "nbconvert_exporter": "python",
   "pygments_lexer": "ipython3",
   "version": "3.9.12"
  }
 },
 "nbformat": 4,
 "nbformat_minor": 5
}
