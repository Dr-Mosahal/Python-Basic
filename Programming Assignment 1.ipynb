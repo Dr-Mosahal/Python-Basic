{
 "cells": [
  {
   "cell_type": "markdown",
   "id": "e7daa9af",
   "metadata": {},
   "source": [
    "# 1.Write a python program to print \"Hello Python\"?"
   ]
  },
  {
   "cell_type": "code",
   "execution_count": null,
   "id": "b67ae5d4",
   "metadata": {},
   "outputs": [],
   "source": [
    "print(\"Hello Python\")"
   ]
  },
  {
   "cell_type": "markdown",
   "id": "47b1fe70",
   "metadata": {},
   "source": [
    "# 2.Write a python program to do arithmetical operations addition and division?"
   ]
  },
  {
   "cell_type": "code",
   "execution_count": 4,
   "id": "65266862",
   "metadata": {},
   "outputs": [
    {
     "name": "stdout",
     "output_type": "stream",
     "text": [
      "5+ 3= 8\n",
      "5/3=1.6666666666666667\n"
     ]
    }
   ],
   "source": [
    "#declare variables for the operands\n",
    "x=5\n",
    "y=3\n",
    "\n",
    "#Perform addition\n",
    "z=x+y\n",
    "print(f\"{x}+ {y}= {z}\")\n",
    "\n",
    "#Perform division\n",
    "q=x/y\n",
    "print(f\"{x}/{y}={q}\")\n",
    "\n"
   ]
  },
  {
   "cell_type": "markdown",
   "id": "fd107074",
   "metadata": {},
   "source": [
    "# 3.Write a python program to find the area of a triangle?"
   ]
  },
  {
   "cell_type": "code",
   "execution_count": 7,
   "id": "d0d8d951",
   "metadata": {},
   "outputs": [
    {
     "name": "stdout",
     "output_type": "stream",
     "text": [
      "The area of the triangle is 17.5\n"
     ]
    }
   ],
   "source": [
    "#Declare the variable for base and height\n",
    "base=5\n",
    "height=7\n",
    "\n",
    "#Calculate the area\n",
    "area=(base*height)/2\n",
    "\n",
    "#Print the result\n",
    "print(f\"The area of the triangle is {area}\")"
   ]
  },
  {
   "cell_type": "markdown",
   "id": "ff496e40",
   "metadata": {},
   "source": [
    "# 4.Write a python program to swap two variables?"
   ]
  },
  {
   "cell_type": "code",
   "execution_count": 8,
   "id": "3f48fb86",
   "metadata": {},
   "outputs": [
    {
     "name": "stdout",
     "output_type": "stream",
     "text": [
      "x=10,y=5\n"
     ]
    }
   ],
   "source": [
    "#Declare variables\n",
    "x=5\n",
    "y=10\n",
    "#Swap the variables\n",
    "x,y=y,x\n",
    "\n",
    "#Print the values of the variables\n",
    "print(f\"x={x},y={y}\")"
   ]
  },
  {
   "cell_type": "markdown",
   "id": "c88e0b14",
   "metadata": {},
   "source": [
    "# 5.Write a python program to generate a random number"
   ]
  },
  {
   "cell_type": "code",
   "execution_count": 9,
   "id": "805511bc",
   "metadata": {},
   "outputs": [
    {
     "name": "stdout",
     "output_type": "stream",
     "text": [
      "0.8365181310698142\n"
     ]
    }
   ],
   "source": [
    "import random\n",
    "\n",
    "#Generate a random number\n",
    "number=random.random()\n",
    "\n",
    "#Print the number\n",
    "print(number)"
   ]
  }
 ],
 "metadata": {
  "kernelspec": {
   "display_name": "Python 3 (ipykernel)",
   "language": "python",
   "name": "python3"
  },
  "language_info": {
   "codemirror_mode": {
    "name": "ipython",
    "version": 3
   },
   "file_extension": ".py",
   "mimetype": "text/x-python",
   "name": "python",
   "nbconvert_exporter": "python",
   "pygments_lexer": "ipython3",
   "version": "3.9.12"
  }
 },
 "nbformat": 4,
 "nbformat_minor": 5
}
