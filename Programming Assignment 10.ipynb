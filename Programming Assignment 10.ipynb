{
 "cells": [
  {
   "cell_type": "markdown",
   "id": "25901158",
   "metadata": {},
   "source": [
    "# 1.Write a Python program to find sum of elements in list? \n"
   ]
  },
  {
   "cell_type": "code",
   "execution_count": 1,
   "id": "b21eec53",
   "metadata": {},
   "outputs": [
    {
     "name": "stdout",
     "output_type": "stream",
     "text": [
      "15\n"
     ]
    }
   ],
   "source": [
    "# Define the list of numbers\n",
    "numbers = [1, 2, 3, 4, 5]\n",
    "\n",
    "# Initialize the sum to 0\n",
    "sum = 0\n",
    "\n",
    "# Iterate through the list and add each element to the sum\n",
    "for number in numbers:\n",
    "    sum += number\n",
    "\n",
    "# Print the sum\n",
    "print(sum)  # Expected output: 15\n"
   ]
  },
  {
   "cell_type": "markdown",
   "id": "fd2b9c8c",
   "metadata": {},
   "source": [
    "\n",
    "# 2.Write a Python program to Multiply all numbers in the list? \n"
   ]
  },
  {
   "cell_type": "code",
   "execution_count": 2,
   "id": "58032d47",
   "metadata": {},
   "outputs": [
    {
     "name": "stdout",
     "output_type": "stream",
     "text": [
      "120\n"
     ]
    }
   ],
   "source": [
    "# Define the list of numbers\n",
    "numbers = [1, 2, 3, 4, 5]\n",
    "\n",
    "# Initialize the product to 1\n",
    "product = 1\n",
    "\n",
    "# Iterate through the list and multiply each element by the product\n",
    "for number in numbers:\n",
    "    product *= number\n",
    "\n",
    "# Print the product\n",
    "print(product)  # Expected output: 120\n"
   ]
  },
  {
   "cell_type": "markdown",
   "id": "0e47a0db",
   "metadata": {},
   "source": [
    "# 3.Write a Python program to find smallest number in a list? \n"
   ]
  },
  {
   "cell_type": "code",
   "execution_count": 3,
   "id": "4435c467",
   "metadata": {},
   "outputs": [
    {
     "name": "stdout",
     "output_type": "stream",
     "text": [
      "1\n"
     ]
    }
   ],
   "source": [
    "# Define the list of numbers\n",
    "numbers = [3, 6, 2, 8, 1, 9, 4, 5]\n",
    "\n",
    "# Initialize the smallest number to the first element in the list\n",
    "smallest = numbers[0]\n",
    "\n",
    "# Iterate through the list and update the smallest number if a smaller number is found\n",
    "for number in numbers:\n",
    "    if number < smallest:\n",
    "        smallest = number\n",
    "\n",
    "# Print the smallest number\n",
    "print(smallest)  # Expected output: 1\n"
   ]
  },
  {
   "cell_type": "markdown",
   "id": "b537a322",
   "metadata": {},
   "source": [
    "# 4.Write a Python program to find largest number in a list? \n"
   ]
  },
  {
   "cell_type": "code",
   "execution_count": 4,
   "id": "205ded27",
   "metadata": {},
   "outputs": [
    {
     "name": "stdout",
     "output_type": "stream",
     "text": [
      "9\n"
     ]
    }
   ],
   "source": [
    "# Define the list of numbers\n",
    "numbers = [3, 6, 2, 8, 1, 9, 4, 5]\n",
    "\n",
    "# Initialize the largest number to the first element in the list\n",
    "largest = numbers[0]\n",
    "\n",
    "# Iterate through the list and update the largest number if a larger number is found\n",
    "for number in numbers:\n",
    "    if number > largest:\n",
    "        largest = number\n",
    "\n",
    "# Print the largest number\n",
    "print(largest)  # Expected output: 9\n"
   ]
  },
  {
   "cell_type": "markdown",
   "id": "a24269a4",
   "metadata": {},
   "source": [
    "# 5.Write a Python program to find second largest number in a list? \n"
   ]
  },
  {
   "cell_type": "code",
   "execution_count": 5,
   "id": "77474870",
   "metadata": {},
   "outputs": [
    {
     "name": "stdout",
     "output_type": "stream",
     "text": [
      "8\n"
     ]
    }
   ],
   "source": [
    "# Define the list of numbers\n",
    "numbers = [3, 6, 2, 8, 1, 9, 4, 5]\n",
    "\n",
    "# Initialize the largest and second largest numbers to the first element in the list\n",
    "largest = numbers[0]\n",
    "second_largest = numbers[0]\n",
    "\n",
    "# Iterate through the list and update the largest and second largest numbers\n",
    "for number in numbers:\n",
    "    if number > largest:\n",
    "        second_largest = largest\n",
    "        largest = number\n",
    "    elif number > second_largest:\n",
    "        second_largest = number\n",
    "\n",
    "# Print the second largest number\n",
    "print(second_largest)  # Expected output: 8\n"
   ]
  },
  {
   "cell_type": "markdown",
   "id": "8b63431d",
   "metadata": {},
   "source": [
    "# 6.Write a Python program to find N largest elements from a list? \n"
   ]
  },
  {
   "cell_type": "code",
   "execution_count": 6,
   "id": "9b17133c",
   "metadata": {},
   "outputs": [
    {
     "name": "stdout",
     "output_type": "stream",
     "text": [
      "9\n",
      "8\n",
      "6\n"
     ]
    }
   ],
   "source": [
    "# Define the list of numbers\n",
    "numbers = [3, 6, 2, 8, 1, 9, 4, 5]\n",
    "\n",
    "# Define the number of elements to return\n",
    "N = 3\n",
    "\n",
    "# Sort the list in descending order\n",
    "numbers.sort(reverse=True)\n",
    "\n",
    "# Print the first N elements of the sorted list\n",
    "for i in range(N):\n",
    "    print(numbers[i])\n"
   ]
  },
  {
   "cell_type": "markdown",
   "id": "4479f6b1",
   "metadata": {},
   "source": [
    "# 7.Write a Python program to print even numbers in a list? \n"
   ]
  },
  {
   "cell_type": "code",
   "execution_count": 7,
   "id": "16c1caf7",
   "metadata": {},
   "outputs": [
    {
     "name": "stdout",
     "output_type": "stream",
     "text": [
      "2\n",
      "4\n",
      "6\n",
      "8\n",
      "10\n"
     ]
    }
   ],
   "source": [
    "# Define the list of numbers\n",
    "numbers = [1, 2, 3, 4, 5, 6, 7, 8, 9, 10]\n",
    "\n",
    "# Iterate through the list and print the even numbers\n",
    "for number in numbers:\n",
    "    if number % 2 == 0:\n",
    "        print(number)\n"
   ]
  },
  {
   "cell_type": "markdown",
   "id": "ff0cd115",
   "metadata": {},
   "source": [
    "# 8.Write a Python program to print odd numbers in a List? \n"
   ]
  },
  {
   "cell_type": "code",
   "execution_count": 8,
   "id": "e2c1791e",
   "metadata": {},
   "outputs": [
    {
     "name": "stdout",
     "output_type": "stream",
     "text": [
      "1\n",
      "3\n",
      "5\n",
      "7\n",
      "9\n"
     ]
    }
   ],
   "source": [
    "# Define the list of numbers\n",
    "numbers = [1, 2, 3, 4, 5, 6, 7, 8, 9, 10]\n",
    "\n",
    "# Iterate through the list and print the odd numbers\n",
    "for number in numbers:\n",
    "    if number % 2 == 1:\n",
    "        print(number)\n"
   ]
  },
  {
   "cell_type": "markdown",
   "id": "d3e27eca",
   "metadata": {},
   "source": [
    "# 9.Write a Python program to Remove empty List from List? \n"
   ]
  },
  {
   "cell_type": "code",
   "execution_count": 9,
   "id": "59943804",
   "metadata": {},
   "outputs": [
    {
     "name": "stdout",
     "output_type": "stream",
     "text": [
      "[[1, 2, 3], [4, 5], [6], [7, 8, 9]]\n"
     ]
    }
   ],
   "source": [
    "# Define the list of lists\n",
    "list_of_lists = [[1, 2, 3], [], [4, 5], [], [6], [7, 8, 9]]\n",
    "\n",
    "# Remove the empty lists from the list of lists\n",
    "filtered_list = [l for l in list_of_lists if l]\n",
    "\n",
    "# Print the filtered list\n",
    "print(filtered_list)  # Expected output: [[1, 2, 3], [4, 5], [6], [7, 8, 9]]\n"
   ]
  },
  {
   "cell_type": "markdown",
   "id": "2c1c9227",
   "metadata": {},
   "source": [
    "# 10.Write a Python program to Cloning or Copying a list? \n",
    "\n"
   ]
  },
  {
   "cell_type": "code",
   "execution_count": 10,
   "id": "2b7bd90c",
   "metadata": {},
   "outputs": [
    {
     "name": "stdout",
     "output_type": "stream",
     "text": [
      "[1, 2, 3, 4, 5]\n",
      "[0, 2, 3, 4, 5]\n"
     ]
    }
   ],
   "source": [
    "import copy\n",
    "\n",
    "# Define the original list\n",
    "original = [1, 2, 3, 4, 5]\n",
    "\n",
    "# Use the copy() function to create a copy of the list\n",
    "copy = copy.copy(original)\n",
    "\n",
    "# Modify the copy\n",
    "copy[0] = 0\n",
    "\n",
    "# Print the original and copy\n",
    "print(original)  # Expected output: [1, 2, 3, 4, 5]\n",
    "print(copy)  # Expected output: [0, 2, 3, 4, 5]\n"
   ]
  },
  {
   "cell_type": "markdown",
   "id": "da1a23d0",
   "metadata": {},
   "source": [
    "# 11.Write a Python program to Count occurrences of an element in a list?"
   ]
  },
  {
   "cell_type": "code",
   "execution_count": 11,
   "id": "4758d3b9",
   "metadata": {},
   "outputs": [
    {
     "name": "stdout",
     "output_type": "stream",
     "text": [
      "3\n"
     ]
    }
   ],
   "source": [
    "# Define the list of numbers\n",
    "numbers = [1, 2, 3, 1, 2, 3, 1, 2, 3, 4, 5]\n",
    "\n",
    "# Define the element to count\n",
    "element = 2\n",
    "\n",
    "# Initialize the count to 0\n",
    "count = 0\n",
    "\n",
    "# Iterate through the list and count the occurrences of the element\n",
    "for number in numbers:\n",
    "    if number == element:\n",
    "        count += 1\n",
    "\n",
    "# Print the count\n",
    "print(count)  # Expected output: 3"
   ]
  }
 ],
 "metadata": {
  "kernelspec": {
   "display_name": "Python 3 (ipykernel)",
   "language": "python",
   "name": "python3"
  },
  "language_info": {
   "codemirror_mode": {
    "name": "ipython",
    "version": 3
   },
   "file_extension": ".py",
   "mimetype": "text/x-python",
   "name": "python",
   "nbconvert_exporter": "python",
   "pygments_lexer": "ipython3",
   "version": "3.9.12"
  }
 },
 "nbformat": 4,
 "nbformat_minor": 5
}
