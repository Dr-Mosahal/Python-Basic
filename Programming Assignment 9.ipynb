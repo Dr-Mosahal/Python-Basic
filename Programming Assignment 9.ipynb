{
 "cells": [
  {
   "cell_type": "markdown",
   "id": "8df39841",
   "metadata": {},
   "source": [
    "# 1.Write a Python program to check if the given number is a Disarium Number? \n",
    "\n"
   ]
  },
  {
   "cell_type": "code",
   "execution_count": 1,
   "id": "a22bb58f",
   "metadata": {},
   "outputs": [
    {
     "name": "stdout",
     "output_type": "stream",
     "text": [
      "True\n",
      "True\n",
      "False\n"
     ]
    }
   ],
   "source": [
    "def is_disarium(n):\n",
    "    # Convert the number to a string and get the length\n",
    "    num_str = str(n)\n",
    "    num_len = len(num_str)\n",
    "    \n",
    "    # Initialize the sum to 0\n",
    "    sum = 0\n",
    "    \n",
    "    # Iterate through each digit in the number\n",
    "    for i in range(num_len):\n",
    "        # Get the i-th digit of the number\n",
    "        digit = int(num_str[i])\n",
    "        \n",
    "        # Add the digit to the sum, raised to the power of its index\n",
    "        sum += digit ** (i+1)\n",
    "        \n",
    "    # Return True if the sum is equal to the original number, False otherwise\n",
    "    return sum == n\n",
    "\n",
    "# Test the function\n",
    "print(is_disarium(89))  # Expected output: True\n",
    "print(is_disarium(175))  # Expected output: True\n",
    "print(is_disarium(547))  # Expected output: False\n"
   ]
  },
  {
   "cell_type": "markdown",
   "id": "a18057b4",
   "metadata": {},
   "source": [
    "# 2.Write a Python program to print all disarium numbers between 1 to 100? \n"
   ]
  },
  {
   "cell_type": "code",
   "execution_count": 2,
   "id": "ea1b69b1",
   "metadata": {},
   "outputs": [
    {
     "name": "stdout",
     "output_type": "stream",
     "text": [
      "1\n",
      "2\n",
      "3\n",
      "4\n",
      "5\n",
      "6\n",
      "7\n",
      "8\n",
      "9\n",
      "89\n"
     ]
    }
   ],
   "source": [
    "def is_disarium(n):\n",
    "    # Convert the number to a string and get the length\n",
    "    num_str = str(n)\n",
    "    num_len = len(num_str)\n",
    "    \n",
    "    # Initialize the sum to 0\n",
    "    sum = 0\n",
    "    \n",
    "    # Iterate through each digit in the number\n",
    "    for i in range(num_len):\n",
    "        # Get the i-th digit of the number\n",
    "        digit = int(num_str[i])\n",
    "        \n",
    "        # Add the digit to the sum, raised to the power of its index\n",
    "        sum += digit ** (i+1)\n",
    "        \n",
    "    # Return True if the sum is equal to the original number, False otherwise\n",
    "    return sum == n\n",
    "\n",
    "# Print all Disarium Numbers between 1 and 100\n",
    "for i in range(1, 101):\n",
    "    if is_disarium(i):\n",
    "        print(i)\n"
   ]
  },
  {
   "cell_type": "markdown",
   "id": "02d73420",
   "metadata": {},
   "source": [
    "# 3.Write a Python program to check if the given number is Happy Number? \n"
   ]
  },
  {
   "cell_type": "code",
   "execution_count": 3,
   "id": "8e1dcb74",
   "metadata": {},
   "outputs": [
    {
     "name": "stdout",
     "output_type": "stream",
     "text": [
      "True\n",
      "False\n"
     ]
    }
   ],
   "source": [
    "def is_happy(n):\n",
    "    # Initialize a set to store the numbers that have been seen\n",
    "    seen = set()\n",
    "    \n",
    "    # Loop until the number is 1 or it has been seen before\n",
    "    while n != 1 and n not in seen:\n",
    "        # Add the number to the set of seen numbers\n",
    "        seen.add(n)\n",
    "        \n",
    "        # Initialize the sum to 0\n",
    "        sum = 0\n",
    "        \n",
    "        # Calculate the sum of the squares of the digits\n",
    "        while n > 0:\n",
    "            digit = n % 10\n",
    "            sum += digit ** 2\n",
    "            n //= 10\n",
    "        \n",
    "        # Set the number to the sum of the squares of its digits\n",
    "        n = sum\n",
    "    \n",
    "    # Return True if the number is 1, False otherwise\n",
    "    return n == 1\n",
    "\n",
    "# Test the function\n",
    "print(is_happy(19))  # Expected output: True\n",
    "print(is_happy(2))  # Expected output: False\n"
   ]
  },
  {
   "cell_type": "markdown",
   "id": "da10713f",
   "metadata": {},
   "source": [
    "# 4.Write a Python program to print all happy numbers between 1 and 100? \n",
    "\n"
   ]
  },
  {
   "cell_type": "code",
   "execution_count": 4,
   "id": "e4f9155d",
   "metadata": {},
   "outputs": [
    {
     "name": "stdout",
     "output_type": "stream",
     "text": [
      "1\n",
      "7\n",
      "10\n",
      "13\n",
      "19\n",
      "23\n",
      "28\n",
      "31\n",
      "32\n",
      "44\n",
      "49\n",
      "68\n",
      "70\n",
      "79\n",
      "82\n",
      "86\n",
      "91\n",
      "94\n",
      "97\n",
      "100\n"
     ]
    }
   ],
   "source": [
    "def is_happy(n):\n",
    "    # Initialize a set to store the numbers that have been seen\n",
    "    seen = set()\n",
    "    \n",
    "    # Loop until the number is 1 or it has been seen before\n",
    "    while n != 1 and n not in seen:\n",
    "        # Add the number to the set of seen numbers\n",
    "        seen.add(n)\n",
    "        \n",
    "        # Initialize the sum to 0\n",
    "        sum = 0\n",
    "        \n",
    "        # Calculate the sum of the squares of the digits\n",
    "        while n > 0:\n",
    "            digit = n % 10\n",
    "            sum += digit ** 2\n",
    "            n //= 10\n",
    "        \n",
    "        # Set the number to the sum of the squares of its digits\n",
    "        n = sum\n",
    "    \n",
    "    # Return True if the number is 1, False otherwise\n",
    "    return n == 1\n",
    "\n",
    "# Print all Happy Numbers between 1 and 100\n",
    "for i in range(1, 101):\n",
    "    if is_happy(i):\n",
    "        print(i)\n"
   ]
  },
  {
   "cell_type": "markdown",
   "id": "4e1a7f43",
   "metadata": {},
   "source": [
    "# 5.Write a Python program to determine whether the given number is a Harshad Number?\n",
    "\n"
   ]
  },
  {
   "cell_type": "code",
   "execution_count": 5,
   "id": "ea299ae4",
   "metadata": {},
   "outputs": [
    {
     "name": "stdout",
     "output_type": "stream",
     "text": [
      "True\n",
      "True\n"
     ]
    }
   ],
   "source": [
    "def is_harshad(n):\n",
    "    # Initialize the sum to 0\n",
    "    sum = 0\n",
    "    \n",
    "    # Calculate the sum of the digits\n",
    "    while n > 0:\n",
    "        sum += n % 10\n",
    "        n //= 10\n",
    "    \n",
    "    # Return True if n is divisible by the sum of its digits, False otherwise\n",
    "    return n % sum == 0\n",
    "\n",
    "# Test the function\n",
    "print(is_harshad(18))  # Expected output: True\n",
    "print(is_harshad(21))  # Expected output: False\n"
   ]
  },
  {
   "cell_type": "markdown",
   "id": "ebedc839",
   "metadata": {},
   "source": [
    "# 6.Write a Python program to print all pronic numbers between 1 and 100?"
   ]
  },
  {
   "cell_type": "code",
   "execution_count": 6,
   "id": "090a198b",
   "metadata": {},
   "outputs": [
    {
     "name": "stdout",
     "output_type": "stream",
     "text": [
      "2\n",
      "6\n",
      "12\n",
      "20\n",
      "30\n",
      "42\n",
      "56\n",
      "72\n",
      "90\n"
     ]
    }
   ],
   "source": [
    "# Print all Pronic Numbers between 1 and 100\n",
    "for i in range(1, 101):\n",
    "    # Check if i is a Pronic Number\n",
    "    if i * (i+1) < 100:\n",
    "        print(i * (i+1))"
   ]
  }
 ],
 "metadata": {
  "kernelspec": {
   "display_name": "Python 3 (ipykernel)",
   "language": "python",
   "name": "python3"
  },
  "language_info": {
   "codemirror_mode": {
    "name": "ipython",
    "version": 3
   },
   "file_extension": ".py",
   "mimetype": "text/x-python",
   "name": "python",
   "nbconvert_exporter": "python",
   "pygments_lexer": "ipython3",
   "version": "3.9.12"
  }
 },
 "nbformat": 4,
 "nbformat_minor": 5
}
