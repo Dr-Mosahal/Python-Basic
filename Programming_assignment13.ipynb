{
  "metadata": {
    "language_info": {
      "codemirror_mode": {
        "name": "python",
        "version": 3
      },
      "file_extension": ".py",
      "mimetype": "text/x-python",
      "name": "python",
      "nbconvert_exporter": "python",
      "pygments_lexer": "ipython3",
      "version": "3.8"
    },
    "kernelspec": {
      "name": "python",
      "display_name": "Python (Pyodide)",
      "language": "python"
    }
  },
  "nbformat_minor": 4,
  "nbformat": 4,
  "cells": [
    {
      "cell_type": "code",
      "source": "Question 1:\nWrite a program that calculates and prints the value according to the given formula:\nQ = Square root of [(2 * C * D)/H]\nFollowing are the fixed values of C and H:\nC is 50. H is 30.\nD is the variable whose values should be input to your program in a comma-separated sequence.\nExample\nLet us assume the following comma separated input sequence is given to the program:\n100,150,180\nThe output of the program should be:\n18,22,24\n",
      "metadata": {},
      "execution_count": null,
      "outputs": []
    },
    {
      "cell_type": "code",
      "source": "import math\n\nC = 50\nH = 30\n\ndef calculate_value(d):\n    q = math.sqrt((2 * C * d) / H)\n    return int(q)\n\ninput_sequence = input(\"Enter comma-separated values of D: \")\nvalues = input_sequence.split(',')\n\nresult = []\nfor d in values:\n    value = calculate_value(int(d))\n    result.append(str(value))\n\noutput = ','.join(result)\nprint(\"The output of the program is:\")\nprint(output)\n",
      "metadata": {},
      "execution_count": null,
      "outputs": []
    },
    {
      "cell_type": "code",
      "source": "Question 2:\nWrite a program which takes 2 digits, X,Y as input and generates a 2-dimensional array. The element value in the i-th row and j-th column of the array should be i*j.\nNote: i=0,1.., X-1; j=0,1,¡Y-1.\nExample\nSuppose the following inputs are given to the program:\n3,5\nThen, the output of the program should be:\n[[0, 0, 0, 0, 0], [0, 1, 2, 3, 4], [0, 2, 4, 6, 8]] ",
      "metadata": {},
      "execution_count": null,
      "outputs": []
    },
    {
      "cell_type": "code",
      "source": "def generate_array(x, y):\n    array = []\n    for i in range(x):\n        row = []\n        for j in range(y):\n            row.append(i * j)\n        array.append(row)\n    return array\n\ninput_str = input(\"Enter two digits X, Y: \")\nx, y = map(int, input_str.split(','))\n\nresult = generate_array(x, y)\nprint(\"The output of the program is:\")\nprint(result)\n",
      "metadata": {},
      "execution_count": null,
      "outputs": []
    },
    {
      "cell_type": "code",
      "source": "Question 3:\nWrite a program that accepts a comma separated sequence of words as input and prints the words in a comma-separated sequence after sorting them alphabetically.\nSuppose the following input is supplied to the program:\nwithout,hello,bag,world\nThen, the output should be:\nbag,hello,without,world",
      "metadata": {},
      "execution_count": null,
      "outputs": []
    },
    {
      "cell_type": "code",
      "source": "input_str = input(\"Enter a comma-separated sequence of words: \")\nwords = input_str.split(',')\nsorted_words = sorted(words)\noutput_str = ','.join(sorted_words)\nprint(\"The output of the program is:\")\nprint(output_str)\n",
      "metadata": {},
      "execution_count": null,
      "outputs": []
    },
    {
      "cell_type": "code",
      "source": "Question 4:\nWrite a program that accepts a sequence of whitespace separated words as input and prints the words after removing all duplicate words and sorting them alphanumerically.\nSuppose the following input is supplied to the program:\nhello world and practice makes perfect and hello world again\nThen, the output should be:\nagain and hello makes perfect practice world",
      "metadata": {},
      "execution_count": null,
      "outputs": []
    },
    {
      "cell_type": "code",
      "source": "input_str = input(\"Enter a sequence of whitespace-separated words: \")\nwords = input_str.split()\nunique_words = list(set(words))\nsorted_words = sorted(unique_words)\noutput_str = ' '.join(sorted_words)\nprint(\"The output of the program is:\")\nprint(output_str)\n",
      "metadata": {},
      "execution_count": null,
      "outputs": []
    },
    {
      "cell_type": "markdown",
      "source": "Question 5:\nWrite a program that accepts a sentence and calculate the number of letters and digits.\nSuppose the following input is supplied to the program:\nhello world! 123\nThen, the output should be:\nLETTERS 10\nDIGITS 3",
      "metadata": {}
    },
    {
      "cell_type": "code",
      "source": "input_str = input(\"Enter a sentence: \")\nletters = 0\ndigits = 0\n\nfor char in input_str:\n    if char.isalpha():\n        letters += 1\n    elif char.isdigit():\n        digits += 1\n\nprint(\"LETTERS\", letters)\nprint(\"DIGITS\", digits)\n",
      "metadata": {},
      "execution_count": null,
      "outputs": []
    },
    {
      "cell_type": "markdown",
      "source": "Question 6:\nA website requires the users to input username and password to register. Write a program to check the validity of password input by users.\nFollowing are the criteria for checking the password:\n1. At least 1 letter between [a-z]\n2. At least 1 number between [0-9]\n1. At least 1 letter between [A-Z]\n3. At least 1 character from [$#@]\n4. Minimum length of transaction password: 6\n5. Maximum length of transaction password: 12\nYour program should accept a sequence of comma separated passwords and will check them according to the above criteria. Passwords that match the criteria are to be printed, each separated by a comma.\nExample\nIf the following passwords are given as input to the program:\nABd1234@1,a F1#,2w3E*,2We3345\nThen, the output of the program should be:\nABd1234@1\n",
      "metadata": {}
    },
    {
      "cell_type": "code",
      "source": "import re\n\ndef check_password(password):\n    if len(password) < 6 or len(password) > 12:\n        return False\n    if not re.search(r\"[a-z]\", password):\n        return False\n    if not re.search(r\"[A-Z]\", password):\n        return False\n    if not re.search(r\"\\d\", password):\n        return False\n    if not re.search(r\"[$#@]\", password):\n        return False\n    return True\n\npasswords = input(\"Enter comma-separated passwords: \")\npassword_list = passwords.split(\",\")\nvalid_passwords = []\n\nfor password in password_list:\n    if check_password(password):\n        valid_passwords.append(password)\n\noutput = \",\".join(valid_passwords)\nprint(output)\n",
      "metadata": {},
      "execution_count": null,
      "outputs": []
    }
  ]
}